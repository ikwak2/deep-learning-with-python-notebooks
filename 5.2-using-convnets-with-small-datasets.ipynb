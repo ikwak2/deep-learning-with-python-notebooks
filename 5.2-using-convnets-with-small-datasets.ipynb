{
 "cells": [
  {
   "cell_type": "code",
   "execution_count": 2,
   "metadata": {},
   "outputs": [
    {
     "data": {
      "text/plain": [
       "'2.2.4-tf'"
      ]
     },
     "execution_count": 2,
     "metadata": {},
     "output_type": "execute_result"
    }
   ],
   "source": [
    "import tensorflow\n",
    "tensorflow.keras.__version__"
   ]
  },
  {
   "cell_type": "markdown",
   "metadata": {},
   "source": [
    "# 5.2 - Using convnets with small datasets\n",
    "\n",
    "This notebook contains the code sample found in Chapter 5, Section 2 of [Deep Learning with Python](https://www.manning.com/books/deep-learning-with-python?a_aid=keras&a_bid=76564dff). Note that the original text features far more content, in particular further explanations and figures: in this notebook, you will only find source code and related comments.\n",
    "\n",
    "## Training a convnet from scratch on a small dataset\n",
    "\n",
    "Having to train an image classification model using only very little data is a common situation, which you likely encounter yourself in \n",
    "practice if you ever do computer vision in a professional context.\n",
    "\n",
    "Having \"few\" samples can mean anywhere from a few hundreds to a few tens of thousands of images. As a practical example, we will focus on \n",
    "classifying images as \"dogs\" or \"cats\", in a dataset containing 4000 pictures of cats and dogs (2000 cats, 2000 dogs). We will use 2000 \n",
    "pictures for training, 1000 for validation, and finally 1000 for testing.\n",
    "\n",
    "In this section, we will review one basic strategy to tackle this problem: training a new model from scratch on what little data we have. We \n",
    "will start by naively training a small convnet on our 2000 training samples, without any regularization, to set a baseline for what can be \n",
    "achieved. This will get us to a classification accuracy of 71%. At that point, our main issue will be overfitting. Then we will introduce \n",
    "*data augmentation*, a powerful technique for mitigating overfitting in computer vision. By leveraging data augmentation, we will improve \n",
    "our network to reach an accuracy of 82%.\n",
    "\n",
    "In the next section, we will review two more essential techniques for applying deep learning to small datasets: *doing feature extraction \n",
    "with a pre-trained network* (this will get us to an accuracy of 90% to 93%), and *fine-tuning a pre-trained network* (this will get us to \n",
    "our final accuracy of 95%). Together, these three strategies -- training a small model from scratch, doing feature extracting using a \n",
    "pre-trained model, and fine-tuning a pre-trained model -- will constitute your future toolbox for tackling the problem of doing computer \n",
    "vision with small datasets."
   ]
  },
  {
   "cell_type": "markdown",
   "metadata": {},
   "source": [
    "## The relevance of deep learning for small-data problems\n",
    "\n",
    "You will sometimes hear that deep learning only works when lots of data is available. This is in part a valid point: one fundamental \n",
    "characteristic of deep learning is that it is able to find interesting features in the training data on its own, without any need for manual \n",
    "feature engineering, and this can only be achieved when lots of training examples are available. This is especially true for problems where \n",
    "the input samples are very high-dimensional, like images.\n",
    "\n",
    "However, what constitutes \"lots\" of samples is relative -- relative to the size and depth of the network you are trying to train, for \n",
    "starters. It isn't possible to train a convnet to solve a complex problem with just a few tens of samples, but a few hundreds can \n",
    "potentially suffice if the model is small and well-regularized and if the task is simple. \n",
    "Because convnets learn local, translation-invariant features, they are very \n",
    "data-efficient on perceptual problems. Training a convnet from scratch on a very small image dataset will still yield reasonable results \n",
    "despite a relative lack of data, without the need for any custom feature engineering. You will see this in action in this section.\n",
    "\n",
    "But what's more, deep learning models are by nature highly repurposable: you can take, say, an image classification or speech-to-text model \n",
    "trained on a large-scale dataset then reuse it on a significantly different problem with only minor changes. Specifically, in the case of \n",
    "computer vision, many pre-trained models (usually trained on the ImageNet dataset) are now publicly available for download and can be used \n",
    "to bootstrap powerful vision models out of very little data. That's what we will do in the next section.\n",
    "\n",
    "For now, let's get started by getting our hands on the data."
   ]
  },
  {
   "cell_type": "markdown",
   "metadata": {},
   "source": [
    "## Downloading the data\n",
    "\n",
    "The cats vs. dogs dataset that we will use isn't packaged with Keras. It was made available by Kaggle.com as part of a computer vision \n",
    "competition in late 2013, back when convnets weren't quite mainstream. You can download the original dataset at: \n",
    "`https://www.kaggle.com/c/dogs-vs-cats/data` (you will need to create a Kaggle account if you don't already have one -- don't worry, the \n",
    "process is painless).\n",
    "\n",
    "The pictures are medium-resolution color JPEGs. They look like this:\n",
    "\n",
    "![cats_vs_dogs_samples](https://s3.amazonaws.com/book.keras.io/img/ch5/cats_vs_dogs_samples.jpg)"
   ]
  },
  {
   "cell_type": "markdown",
   "metadata": {},
   "source": [
    "Unsurprisingly, the cats vs. dogs Kaggle competition in 2013 was won by entrants who used convnets. The best entries could achieve up to \n",
    "95% accuracy. In our own example, we will get fairly close to this accuracy (in the next section), even though we will be training our \n",
    "models on less than 10% of the data that was available to the competitors.\n",
    "This original dataset contains 25,000 images of dogs and cats (12,500 from each class) and is 543MB large (compressed). After downloading \n",
    "and uncompressing it, we will create a new dataset containing three subsets: a training set with 1000 samples of each class, a validation \n",
    "set with 500 samples of each class, and finally a test set with 500 samples of each class.\n",
    "\n",
    "Here are a few lines of code to do this:"
   ]
  },
  {
   "cell_type": "code",
   "execution_count": 3,
   "metadata": {},
   "outputs": [],
   "source": [
    "import os, shutil"
   ]
  },
  {
   "cell_type": "code",
   "execution_count": 4,
   "metadata": {},
   "outputs": [
    {
     "ename": "FileNotFoundError",
     "evalue": "[Errno 2] No such file or directory: '/Users/fchollet/Downloads/cats_and_dogs_small'",
     "output_type": "error",
     "traceback": [
      "\u001b[0;31m---------------------------------------------------------------------------\u001b[0m",
      "\u001b[0;31mFileNotFoundError\u001b[0m                         Traceback (most recent call last)",
      "\u001b[0;32m<ipython-input-4-156fc6acb3f1>\u001b[0m in \u001b[0;36m<module>\u001b[0;34m()\u001b[0m\n\u001b[1;32m      6\u001b[0m \u001b[0;31m# store our smaller dataset\u001b[0m\u001b[0;34m\u001b[0m\u001b[0;34m\u001b[0m\u001b[0m\n\u001b[1;32m      7\u001b[0m \u001b[0mbase_dir\u001b[0m \u001b[0;34m=\u001b[0m \u001b[0;34m'/Users/fchollet/Downloads/cats_and_dogs_small'\u001b[0m\u001b[0;34m\u001b[0m\u001b[0m\n\u001b[0;32m----> 8\u001b[0;31m \u001b[0mos\u001b[0m\u001b[0;34m.\u001b[0m\u001b[0mmkdir\u001b[0m\u001b[0;34m(\u001b[0m\u001b[0mbase_dir\u001b[0m\u001b[0;34m)\u001b[0m\u001b[0;34m\u001b[0m\u001b[0m\n\u001b[0m\u001b[1;32m      9\u001b[0m \u001b[0;34m\u001b[0m\u001b[0m\n\u001b[1;32m     10\u001b[0m \u001b[0;31m# Directories for our training,\u001b[0m\u001b[0;34m\u001b[0m\u001b[0;34m\u001b[0m\u001b[0m\n",
      "\u001b[0;31mFileNotFoundError\u001b[0m: [Errno 2] No such file or directory: '/Users/fchollet/Downloads/cats_and_dogs_small'"
     ]
    }
   ],
   "source": [
    "# The path to the directory where the original\n",
    "# dataset was uncompressed\n",
    "original_dataset_dir = '/Users/fchollet/Downloads/kaggle_original_data'\n",
    "\n",
    "# The directory where we will\n",
    "# store our smaller dataset\n",
    "base_dir = '/Users/fchollet/Downloads/cats_and_dogs_small'\n",
    "os.mkdir(base_dir)\n",
    "\n",
    "# Directories for our training,\n",
    "# validation and test splits\n",
    "train_dir = os.path.join(base_dir, 'train')\n",
    "os.mkdir(train_dir)\n",
    "validation_dir = os.path.join(base_dir, 'validation')\n",
    "os.mkdir(validation_dir)\n",
    "test_dir = os.path.join(base_dir, 'test')\n",
    "os.mkdir(test_dir)\n",
    "\n",
    "# Directory with our training cat pictures\n",
    "train_cats_dir = os.path.join(train_dir, 'cats')\n",
    "os.mkdir(train_cats_dir)\n",
    "\n",
    "# Directory with our training dog pictures\n",
    "train_dogs_dir = os.path.join(train_dir, 'dogs')\n",
    "os.mkdir(train_dogs_dir)\n",
    "\n",
    "# Directory with our validation cat pictures\n",
    "validation_cats_dir = os.path.join(validation_dir, 'cats')\n",
    "os.mkdir(validation_cats_dir)\n",
    "\n",
    "# Directory with our validation dog pictures\n",
    "validation_dogs_dir = os.path.join(validation_dir, 'dogs')\n",
    "os.mkdir(validation_dogs_dir)\n",
    "\n",
    "# Directory with our validation cat pictures\n",
    "test_cats_dir = os.path.join(test_dir, 'cats')\n",
    "os.mkdir(test_cats_dir)\n",
    "\n",
    "# Directory with our validation dog pictures\n",
    "test_dogs_dir = os.path.join(test_dir, 'dogs')\n",
    "os.mkdir(test_dogs_dir)\n",
    "\n",
    "# Copy first 1000 cat images to train_cats_dir\n",
    "fnames = ['cat.{}.jpg'.format(i) for i in range(1000)]\n",
    "for fname in fnames:\n",
    "    src = os.path.join(original_dataset_dir, fname)\n",
    "    dst = os.path.join(train_cats_dir, fname)\n",
    "    shutil.copyfile(src, dst)\n",
    "\n",
    "# Copy next 500 cat images to validation_cats_dir\n",
    "fnames = ['cat.{}.jpg'.format(i) for i in range(1000, 1500)]\n",
    "for fname in fnames:\n",
    "    src = os.path.join(original_dataset_dir, fname)\n",
    "    dst = os.path.join(validation_cats_dir, fname)\n",
    "    shutil.copyfile(src, dst)\n",
    "    \n",
    "# Copy next 500 cat images to test_cats_dir\n",
    "fnames = ['cat.{}.jpg'.format(i) for i in range(1500, 2000)]\n",
    "for fname in fnames:\n",
    "    src = os.path.join(original_dataset_dir, fname)\n",
    "    dst = os.path.join(test_cats_dir, fname)\n",
    "    shutil.copyfile(src, dst)\n",
    "    \n",
    "# Copy first 1000 dog images to train_dogs_dir\n",
    "fnames = ['dog.{}.jpg'.format(i) for i in range(1000)]\n",
    "for fname in fnames:\n",
    "    src = os.path.join(original_dataset_dir, fname)\n",
    "    dst = os.path.join(train_dogs_dir, fname)\n",
    "    shutil.copyfile(src, dst)\n",
    "    \n",
    "# Copy next 500 dog images to validation_dogs_dir\n",
    "fnames = ['dog.{}.jpg'.format(i) for i in range(1000, 1500)]\n",
    "for fname in fnames:\n",
    "    src = os.path.join(original_dataset_dir, fname)\n",
    "    dst = os.path.join(validation_dogs_dir, fname)\n",
    "    shutil.copyfile(src, dst)\n",
    "    \n",
    "# Copy next 500 dog images to test_dogs_dir\n",
    "fnames = ['dog.{}.jpg'.format(i) for i in range(1500, 2000)]\n",
    "for fname in fnames:\n",
    "    src = os.path.join(original_dataset_dir, fname)\n",
    "    dst = os.path.join(test_dogs_dir, fname)\n",
    "    shutil.copyfile(src, dst)"
   ]
  },
  {
   "cell_type": "markdown",
   "metadata": {},
   "source": [
    "As a sanity check, let's count how many pictures we have in each training split (train/validation/test):"
   ]
  },
  {
   "cell_type": "markdown",
   "metadata": {},
   "source": [
    "### 다른방법\n",
    "\n",
    "구글 tensorflow tutorial 에서 같은 예제를 사용함으로 아래와 같이 받아도 됩니다"
   ]
  },
  {
   "cell_type": "code",
   "execution_count": 1,
   "metadata": {},
   "outputs": [],
   "source": [
    "import os\n",
    "import numpy as np\n",
    "from tensorflow.keras.preprocessing.image import ImageDataGenerator"
   ]
  },
  {
   "cell_type": "code",
   "execution_count": 5,
   "metadata": {},
   "outputs": [],
   "source": [
    "_URL = 'https://storage.googleapis.com/mledu-datasets/cats_and_dogs_filtered.zip'\n",
    "\n",
    "path_to_zip = tensorflow.keras.utils.get_file('cats_and_dogs.zip', origin=_URL, extract=True)\n",
    "\n",
    "PATH = os.path.join(os.path.dirname(path_to_zip), 'cats_and_dogs_filtered')"
   ]
  },
  {
   "cell_type": "code",
   "execution_count": 6,
   "metadata": {},
   "outputs": [],
   "source": [
    "train_dir = os.path.join(PATH, 'train')\n",
    "validation_dir = os.path.join(PATH, 'validation')"
   ]
  },
  {
   "cell_type": "code",
   "execution_count": 7,
   "metadata": {},
   "outputs": [],
   "source": [
    "train_cats_dir = os.path.join(train_dir, 'cats')  # directory with our training cat pictures\n",
    "train_dogs_dir = os.path.join(train_dir, 'dogs')  # directory with our training dog pictures\n",
    "validation_cats_dir = os.path.join(validation_dir, 'cats')  # directory with our validation cat pictures\n",
    "validation_dogs_dir = os.path.join(validation_dir, 'dogs')  # directory with our validation dog pictures"
   ]
  },
  {
   "cell_type": "code",
   "execution_count": 8,
   "metadata": {},
   "outputs": [],
   "source": [
    "num_cats_tr = len(os.listdir(train_cats_dir))\n",
    "num_dogs_tr = len(os.listdir(train_dogs_dir))\n",
    "\n",
    "num_cats_val = len(os.listdir(validation_cats_dir))\n",
    "num_dogs_val = len(os.listdir(validation_dogs_dir))\n",
    "\n",
    "total_train = num_cats_tr + num_dogs_tr\n",
    "total_val = num_cats_val + num_dogs_val"
   ]
  },
  {
   "cell_type": "code",
   "execution_count": 9,
   "metadata": {},
   "outputs": [
    {
     "name": "stdout",
     "output_type": "stream",
     "text": [
      "total training cat images: 1000\n"
     ]
    }
   ],
   "source": [
    "print('total training cat images:', len(os.listdir(train_cats_dir)))"
   ]
  },
  {
   "cell_type": "code",
   "execution_count": 10,
   "metadata": {},
   "outputs": [
    {
     "name": "stdout",
     "output_type": "stream",
     "text": [
      "total training dog images: 1000\n"
     ]
    }
   ],
   "source": [
    "print('total training dog images:', len(os.listdir(train_dogs_dir)))"
   ]
  },
  {
   "cell_type": "code",
   "execution_count": 11,
   "metadata": {},
   "outputs": [
    {
     "name": "stdout",
     "output_type": "stream",
     "text": [
      "total validation cat images: 500\n"
     ]
    }
   ],
   "source": [
    "print('total validation cat images:', len(os.listdir(validation_cats_dir)))"
   ]
  },
  {
   "cell_type": "code",
   "execution_count": 12,
   "metadata": {},
   "outputs": [
    {
     "name": "stdout",
     "output_type": "stream",
     "text": [
      "total validation dog images: 500\n"
     ]
    }
   ],
   "source": [
    "print('total validation dog images:', len(os.listdir(validation_dogs_dir)))"
   ]
  },
  {
   "cell_type": "code",
   "execution_count": 12,
   "metadata": {},
   "outputs": [],
   "source": [
    "#print('total test cat images:', len(os.listdir(test_cats_dir)))"
   ]
  },
  {
   "cell_type": "code",
   "execution_count": 13,
   "metadata": {},
   "outputs": [],
   "source": [
    "#print('total test dog images:', len(os.listdir(test_dogs_dir)))"
   ]
  },
  {
   "cell_type": "markdown",
   "metadata": {},
   "source": [
    "\n",
    "So we have indeed 2000 training images, and then 1000 validation images and 1000 test images. In each split, there is the same number of \n",
    "samples from each class: this is a balanced binary classification problem, which means that classification accuracy will be an appropriate \n",
    "measure of success."
   ]
  },
  {
   "cell_type": "markdown",
   "metadata": {},
   "source": [
    "## Building our network\n",
    "\n",
    "We've already built a small convnet for MNIST in the previous example, so you should be familiar with them. We will reuse the same \n",
    "general structure: our convnet will be a stack of alternated `Conv2D` (with `relu` activation) and `MaxPooling2D` layers.\n",
    "\n",
    "However, since we are dealing with bigger images and a more complex problem, we will make our network accordingly larger: it will have one \n",
    "more `Conv2D` + `MaxPooling2D` stage. This serves both to augment the capacity of the network, and to further reduce the size of the \n",
    "feature maps, so that they aren't overly large when we reach the `Flatten` layer. Here, since we start from inputs of size 150x150 (a \n",
    "somewhat arbitrary choice), we end up with feature maps of size 7x7 right before the `Flatten` layer.\n",
    "\n",
    "Note that the depth of the feature maps is progressively increasing in the network (from 32 to 128), while the size of the feature maps is \n",
    "decreasing (from 148x148 to 7x7). This is a pattern that you will see in almost all convnets.\n",
    "\n",
    "Since we are attacking a binary classification problem, we are ending the network with a single unit (a `Dense` layer of size 1) and a \n",
    "`sigmoid` activation. This unit will encode the probability that the network is looking at one class or the other."
   ]
  },
  {
   "cell_type": "code",
   "execution_count": 14,
   "metadata": {},
   "outputs": [],
   "source": [
    "from tensorflow.keras import layers\n",
    "from tensorflow.keras import models\n",
    "\n",
    "model = models.Sequential()\n",
    "model.add(layers.Conv2D(32, (3, 3), activation='relu',\n",
    "                        input_shape=(150, 150, 3)))\n",
    "model.add(layers.MaxPooling2D((2, 2)))\n",
    "model.add(layers.Conv2D(64, (3, 3), activation='relu'))\n",
    "model.add(layers.MaxPooling2D((2, 2)))\n",
    "model.add(layers.Conv2D(128, (3, 3), activation='relu'))\n",
    "model.add(layers.MaxPooling2D((2, 2)))\n",
    "model.add(layers.Conv2D(128, (3, 3), activation='relu'))\n",
    "model.add(layers.MaxPooling2D((2, 2)))\n",
    "model.add(layers.Flatten())\n",
    "model.add(layers.Dense(512, activation='relu'))\n",
    "model.add(layers.Dense(1, activation='sigmoid'))"
   ]
  },
  {
   "cell_type": "markdown",
   "metadata": {},
   "source": [
    "Let's take a look at how the dimensions of the feature maps change with every successive layer:"
   ]
  },
  {
   "cell_type": "code",
   "execution_count": 15,
   "metadata": {},
   "outputs": [
    {
     "name": "stdout",
     "output_type": "stream",
     "text": [
      "Model: \"sequential_1\"\n",
      "_________________________________________________________________\n",
      "Layer (type)                 Output Shape              Param #   \n",
      "=================================================================\n",
      "conv2d_4 (Conv2D)            (None, 148, 148, 32)      896       \n",
      "_________________________________________________________________\n",
      "max_pooling2d_4 (MaxPooling2 (None, 74, 74, 32)        0         \n",
      "_________________________________________________________________\n",
      "conv2d_5 (Conv2D)            (None, 72, 72, 64)        18496     \n",
      "_________________________________________________________________\n",
      "max_pooling2d_5 (MaxPooling2 (None, 36, 36, 64)        0         \n",
      "_________________________________________________________________\n",
      "conv2d_6 (Conv2D)            (None, 34, 34, 128)       73856     \n",
      "_________________________________________________________________\n",
      "max_pooling2d_6 (MaxPooling2 (None, 17, 17, 128)       0         \n",
      "_________________________________________________________________\n",
      "conv2d_7 (Conv2D)            (None, 15, 15, 128)       147584    \n",
      "_________________________________________________________________\n",
      "max_pooling2d_7 (MaxPooling2 (None, 7, 7, 128)         0         \n",
      "_________________________________________________________________\n",
      "flatten_1 (Flatten)          (None, 6272)              0         \n",
      "_________________________________________________________________\n",
      "dense_2 (Dense)              (None, 512)               3211776   \n",
      "_________________________________________________________________\n",
      "dense_3 (Dense)              (None, 1)                 513       \n",
      "=================================================================\n",
      "Total params: 3,453,121\n",
      "Trainable params: 3,453,121\n",
      "Non-trainable params: 0\n",
      "_________________________________________________________________\n"
     ]
    }
   ],
   "source": [
    "model.summary()"
   ]
  },
  {
   "cell_type": "markdown",
   "metadata": {},
   "source": [
    "For our compilation step, we'll go with the `RMSprop` optimizer as usual. Since we ended our network with a single sigmoid unit, we will \n",
    "use binary crossentropy as our loss (as a reminder, check out the table in Chapter 4, section 5 for a cheatsheet on what loss function to \n",
    "use in various situations)."
   ]
  },
  {
   "cell_type": "code",
   "execution_count": 16,
   "metadata": {},
   "outputs": [],
   "source": [
    "from tensorflow.keras import optimizers\n",
    "\n",
    "model.compile(loss='binary_crossentropy',\n",
    "              optimizer=optimizers.RMSprop(lr=1e-4),\n",
    "              metrics=['acc'])"
   ]
  },
  {
   "cell_type": "markdown",
   "metadata": {},
   "source": [
    "## Data preprocessing\n",
    "\n",
    "As you already know by now, data should be formatted into appropriately pre-processed floating point tensors before being fed into our \n",
    "network. Currently, our data sits on a drive as JPEG files, so the steps for getting it into our network are roughly:\n",
    "\n",
    "* Read the picture files.\n",
    "* Decode the JPEG content to RBG grids of pixels.\n",
    "* Convert these into floating point tensors.\n",
    "* Rescale the pixel values (between 0 and 255) to the [0, 1] interval (as you know, neural networks prefer to deal with small input values).\n",
    "\n",
    "It may seem a bit daunting, but thankfully Keras has utilities to take care of these steps automatically. Keras has a module with image \n",
    "processing helper tools, located at `keras.preprocessing.image`. In particular, it contains the class `ImageDataGenerator` which allows to \n",
    "quickly set up Python generators that can automatically turn image files on disk into batches of pre-processed tensors. This is what we \n",
    "will use here."
   ]
  },
  {
   "cell_type": "code",
   "execution_count": 17,
   "metadata": {},
   "outputs": [
    {
     "name": "stdout",
     "output_type": "stream",
     "text": [
      "Found 2000 images belonging to 2 classes.\n",
      "Found 1000 images belonging to 2 classes.\n"
     ]
    }
   ],
   "source": [
    "from tensorflow.keras.preprocessing.image import ImageDataGenerator\n",
    "\n",
    "# All images will be rescaled by 1./255\n",
    "train_datagen = ImageDataGenerator(rescale=1./255)\n",
    "test_datagen = ImageDataGenerator(rescale=1./255)\n",
    "\n",
    "train_generator = train_datagen.flow_from_directory(\n",
    "        # This is the target directory\n",
    "        train_dir,\n",
    "        # All images will be resized to 150x150\n",
    "        target_size=(150, 150),\n",
    "        batch_size=128,\n",
    "        # Since we use binary_crossentropy loss, we need binary labels\n",
    "        class_mode='binary')\n",
    "\n",
    "validation_generator = test_datagen.flow_from_directory(\n",
    "        validation_dir,\n",
    "        target_size=(150, 150),\n",
    "        batch_size=128,\n",
    "        class_mode='binary')"
   ]
  },
  {
   "cell_type": "markdown",
   "metadata": {},
   "source": [
    "Let's take a look at the output of one of these generators: it yields batches of 150x150 RGB images (shape `(20, 150, 150, 3)`) and binary \n",
    "labels (shape `(20,)`). 20 is the number of samples in each batch (the batch size). Note that the generator yields these batches \n",
    "indefinitely: it just loops endlessly over the images present in the target folder. For this reason, we need to `break` the iteration loop \n",
    "at some point."
   ]
  },
  {
   "cell_type": "code",
   "execution_count": 18,
   "metadata": {},
   "outputs": [
    {
     "name": "stdout",
     "output_type": "stream",
     "text": [
      "data batch shape: (128, 150, 150, 3)\n",
      "labels batch shape: (128,)\n"
     ]
    }
   ],
   "source": [
    "for data_batch, labels_batch in train_generator:\n",
    "    print('data batch shape:', data_batch.shape)\n",
    "    print('labels batch shape:', labels_batch.shape)\n",
    "    break"
   ]
  },
  {
   "cell_type": "markdown",
   "metadata": {},
   "source": [
    "Let's fit our model to the data using the generator. We do it using the `fit_generator` method, the equivalent of `fit` for data generators \n",
    "like ours. It expects as first argument a Python generator that will yield batches of inputs and targets indefinitely, like ours does. \n",
    "Because the data is being generated endlessly, the generator needs to know example how many samples to draw from the generator before \n",
    "declaring an epoch over. This is the role of the `steps_per_epoch` argument: after having drawn `steps_per_epoch` batches from the \n",
    "generator, i.e. after having run for `steps_per_epoch` gradient descent steps, the fitting process will go to the next epoch. In our case, \n",
    "batches are 20-sample large, so it will take 100 batches until we see our target of 2000 samples.\n",
    "\n",
    "When using `fit_generator`, one may pass a `validation_data` argument, much like with the `fit` method. Importantly, this argument is \n",
    "allowed to be a data generator itself, but it could be a tuple of Numpy arrays as well. If you pass a generator as `validation_data`, then \n",
    "this generator is expected to yield batches of validation data endlessly, and thus you should also specify the `validation_steps` argument, \n",
    "which tells the process how many batches to draw from the validation generator for evaluation."
   ]
  },
  {
   "cell_type": "code",
   "execution_count": 19,
   "metadata": {},
   "outputs": [
    {
     "name": "stdout",
     "output_type": "stream",
     "text": [
      "Epoch 1/30\n",
      "100/100 [==============================] - 38s 379ms/step - loss: 0.6691 - acc: 0.5802 - val_loss: 0.6287 - val_acc: 0.6606\n",
      "Epoch 2/30\n",
      "100/100 [==============================] - 36s 360ms/step - loss: 0.6000 - acc: 0.6833 - val_loss: 0.5821 - val_acc: 0.6950\n",
      "Epoch 3/30\n",
      "100/100 [==============================] - 37s 365ms/step - loss: 0.5249 - acc: 0.7400 - val_loss: 0.5534 - val_acc: 0.7022\n",
      "Epoch 4/30\n",
      "100/100 [==============================] - 37s 371ms/step - loss: 0.4607 - acc: 0.7867 - val_loss: 0.5493 - val_acc: 0.7283\n",
      "Epoch 5/30\n",
      "100/100 [==============================] - 35s 354ms/step - loss: 0.4002 - acc: 0.8214 - val_loss: 0.5490 - val_acc: 0.7297\n",
      "Epoch 6/30\n",
      "100/100 [==============================] - 36s 360ms/step - loss: 0.3483 - acc: 0.8479 - val_loss: 0.6226 - val_acc: 0.6944\n",
      "Epoch 7/30\n",
      "100/100 [==============================] - 37s 366ms/step - loss: 0.3010 - acc: 0.8778 - val_loss: 0.5694 - val_acc: 0.7318\n",
      "Epoch 8/30\n",
      "100/100 [==============================] - 37s 372ms/step - loss: 0.2535 - acc: 0.9026 - val_loss: 0.5761 - val_acc: 0.7452\n",
      "Epoch 9/30\n",
      "100/100 [==============================] - 36s 355ms/step - loss: 0.2109 - acc: 0.9226 - val_loss: 0.5910 - val_acc: 0.7466\n",
      "Epoch 10/30\n",
      "100/100 [==============================] - 36s 359ms/step - loss: 0.1730 - acc: 0.9420 - val_loss: 0.6264 - val_acc: 0.7379\n",
      "Epoch 11/30\n",
      "100/100 [==============================] - 37s 368ms/step - loss: 0.1354 - acc: 0.9566 - val_loss: 0.6384 - val_acc: 0.7342\n",
      "Epoch 12/30\n",
      "100/100 [==============================] - 37s 373ms/step - loss: 0.1081 - acc: 0.9666 - val_loss: 0.6903 - val_acc: 0.7417\n",
      "Epoch 13/30\n",
      "100/100 [==============================] - 36s 355ms/step - loss: 0.0765 - acc: 0.9794 - val_loss: 0.9304 - val_acc: 0.7343\n",
      "Epoch 14/30\n",
      "100/100 [==============================] - 36s 359ms/step - loss: 0.0644 - acc: 0.9816 - val_loss: 0.8333 - val_acc: 0.7283\n",
      "Epoch 15/30\n",
      "100/100 [==============================] - 37s 366ms/step - loss: 0.0541 - acc: 0.9862 - val_loss: 0.9584 - val_acc: 0.7382\n",
      "Epoch 16/30\n",
      "100/100 [==============================] - 37s 371ms/step - loss: 0.0475 - acc: 0.9856 - val_loss: 0.9279 - val_acc: 0.7356\n",
      "Epoch 17/30\n",
      "100/100 [==============================] - 36s 356ms/step - loss: 0.0388 - acc: 0.9875 - val_loss: 0.9543 - val_acc: 0.7302\n",
      "Epoch 18/30\n",
      "100/100 [==============================] - 36s 361ms/step - loss: 0.0388 - acc: 0.9902 - val_loss: 1.0280 - val_acc: 0.7311\n",
      "Epoch 19/30\n",
      "100/100 [==============================] - 37s 365ms/step - loss: 0.0320 - acc: 0.9905 - val_loss: 1.0447 - val_acc: 0.7297\n",
      "Epoch 20/30\n",
      "100/100 [==============================] - 37s 371ms/step - loss: 0.0250 - acc: 0.9922 - val_loss: 1.0473 - val_acc: 0.7297\n",
      "Epoch 21/30\n",
      "100/100 [==============================] - 36s 355ms/step - loss: 0.0157 - acc: 0.9954 - val_loss: 1.2169 - val_acc: 0.7283\n",
      "Epoch 22/30\n",
      "100/100 [==============================] - 36s 360ms/step - loss: 0.0425 - acc: 0.9889 - val_loss: 1.1524 - val_acc: 0.7383\n",
      "Epoch 23/30\n",
      "100/100 [==============================] - 37s 365ms/step - loss: 0.0156 - acc: 0.9955 - val_loss: 1.2712 - val_acc: 0.7275\n",
      "Epoch 24/30\n",
      "100/100 [==============================] - 37s 372ms/step - loss: 0.0352 - acc: 0.9911 - val_loss: 1.2003 - val_acc: 0.7342\n",
      "Epoch 25/30\n",
      "100/100 [==============================] - 35s 354ms/step - loss: 0.0243 - acc: 0.9944 - val_loss: 1.2266 - val_acc: 0.7238\n",
      "Epoch 26/30\n",
      "100/100 [==============================] - 36s 362ms/step - loss: 0.0225 - acc: 0.9955 - val_loss: 1.3232 - val_acc: 0.7345\n",
      "Epoch 27/30\n",
      "100/100 [==============================] - 37s 366ms/step - loss: 0.0249 - acc: 0.9957 - val_loss: 1.3620 - val_acc: 0.7297\n",
      "Epoch 28/30\n",
      "100/100 [==============================] - 37s 372ms/step - loss: 0.0156 - acc: 0.9956 - val_loss: 1.4043 - val_acc: 0.7275\n",
      "Epoch 29/30\n",
      "100/100 [==============================] - 36s 356ms/step - loss: 0.0164 - acc: 0.9971 - val_loss: 1.4344 - val_acc: 0.7278\n",
      "Epoch 30/30\n",
      "100/100 [==============================] - 36s 361ms/step - loss: 0.0166 - acc: 0.9967 - val_loss: 1.4665 - val_acc: 0.7324\n"
     ]
    }
   ],
   "source": [
    "history = model.fit_generator(\n",
    "      train_generator,\n",
    "      steps_per_epoch=100,\n",
    "      epochs=30,\n",
    "      validation_data=validation_generator,\n",
    "      validation_steps=50)"
   ]
  },
  {
   "cell_type": "markdown",
   "metadata": {
    "collapsed": true
   },
   "source": [
    "It is good practice to always save your models after training:"
   ]
  },
  {
   "cell_type": "code",
   "execution_count": 23,
   "metadata": {},
   "outputs": [],
   "source": [
    "model.save('cats_and_dogs_small_1.h5')"
   ]
  },
  {
   "cell_type": "markdown",
   "metadata": {},
   "source": [
    "Let's plot the loss and accuracy of the model over the training and validation data during training:"
   ]
  },
  {
   "cell_type": "code",
   "execution_count": 21,
   "metadata": {},
   "outputs": [
    {
     "data": {
      "image/png": "[encoded data removed]",
      "text/plain": [
       "<Figure size 432x288 with 1 Axes>"
      ]
     },
     "metadata": {},
     "output_type": "display_data"
    },
    {
     "data": {
      "image/png": "[encoded data removed]",
      "text/plain": [
       "<Figure size 432x288 with 1 Axes>"
      ]
     },
     "metadata": {},
     "output_type": "display_data"
    }
   ],
   "source": [
    "import matplotlib.pyplot as plt\n",
    "\n",
    "acc = history.history['acc']\n",
    "val_acc = history.history['val_acc']\n",
    "loss = history.history['loss']\n",
    "val_loss = history.history['val_loss']\n",
    "\n",
    "epochs = range(len(acc))\n",
    "\n",
    "plt.plot(epochs, acc, 'bo', label='Training acc')\n",
    "plt.plot(epochs, val_acc, 'b', label='Validation acc')\n",
    "plt.title('Training and validation accuracy')\n",
    "plt.legend()\n",
    "\n",
    "plt.figure()\n",
    "\n",
    "plt.plot(epochs, loss, 'bo', label='Training loss')\n",
    "plt.plot(epochs, val_loss, 'b', label='Validation loss')\n",
    "plt.title('Training and validation loss')\n",
    "plt.legend()\n",
    "\n",
    "plt.show()"
   ]
  },
  {
   "cell_type": "markdown",
   "metadata": {},
   "source": [
    "These plots are characteristic of overfitting. Our training accuracy increases linearly over time, until it reaches nearly 100%, while our \n",
    "validation accuracy stalls at 70-72%. Our validation loss reaches its minimum after only five epochs then stalls, while the training loss \n",
    "keeps decreasing linearly until it reaches nearly 0.\n",
    "\n",
    "Because we only have relatively few training samples (2000), overfitting is going to be our number one concern. You already know about a \n",
    "number of techniques that can help mitigate overfitting, such as dropout and weight decay (L2 regularization). We are now going to \n",
    "introduce a new one, specific to computer vision, and used almost universally when processing images with deep learning models: *data \n",
    "augmentation*."
   ]
  },
  {
   "cell_type": "markdown",
   "metadata": {},
   "source": [
    "## Using data augmentation\n",
    "\n",
    "Overfitting is caused by having too few samples to learn from, rendering us unable to train a model able to generalize to new data. \n",
    "Given infinite data, our model would be exposed to every possible aspect of the data distribution at hand: we would never overfit. Data \n",
    "augmentation takes the approach of generating more training data from existing training samples, by \"augmenting\" the samples via a number \n",
    "of random transformations that yield believable-looking images. The goal is that at training time, our model would never see the exact same \n",
    "picture twice. This helps the model get exposed to more aspects of the data and generalize better.\n",
    "\n",
    "In Keras, this can be done by configuring a number of random transformations to be performed on the images read by our `ImageDataGenerator` \n",
    "instance. Let's get started with an example:"
   ]
  },
  {
   "cell_type": "code",
   "execution_count": 19,
   "metadata": {},
   "outputs": [],
   "source": [
    "datagen = ImageDataGenerator(\n",
    "      rotation_range=40,\n",
    "      width_shift_range=0.2,\n",
    "      height_shift_range=0.2,\n",
    "      shear_range=0.2,\n",
    "      zoom_range=0.2,\n",
    "      horizontal_flip=True,\n",
    "      fill_mode='nearest')"
   ]
  },
  {
   "cell_type": "markdown",
   "metadata": {},
   "source": [
    "These are just a few of the options available (for more, see the Keras documentation). Let's quickly go over what we just wrote:\n",
    "\n",
    "* `rotation_range` is a value in degrees (0-180), a range within which to randomly rotate pictures.\n",
    "* `width_shift` and `height_shift` are ranges (as a fraction of total width or height) within which to randomly translate pictures \n",
    "vertically or horizontally.\n",
    "* `shear_range` is for randomly applying shearing transformations.\n",
    "* `zoom_range` is for randomly zooming inside pictures.\n",
    "* `horizontal_flip` is for randomly flipping half of the images horizontally -- relevant when there are no assumptions of horizontal \n",
    "asymmetry (e.g. real-world pictures).\n",
    "* `fill_mode` is the strategy used for filling in newly created pixels, which can appear after a rotation or a width/height shift.\n",
    "\n",
    "Let's take a look at our augmented images:"
   ]
  },
  {
   "cell_type": "code",
   "execution_count": 22,
   "metadata": {},
   "outputs": [
    {
     "ename": "NameError",
     "evalue": "name 'datagen' is not defined",
     "output_type": "error",
     "traceback": [
      "\u001b[0;31m---------------------------------------------------------------------------\u001b[0m",
      "\u001b[0;31mNameError\u001b[0m                                 Traceback (most recent call last)",
      "\u001b[0;32m<ipython-input-22-45ed46cb5337>\u001b[0m in \u001b[0;36m<module>\u001b[0;34m()\u001b[0m\n\u001b[1;32m     19\u001b[0m \u001b[0;31m# It will loop indefinitely, so we need to `break` the loop at some point!\u001b[0m\u001b[0;34m\u001b[0m\u001b[0;34m\u001b[0m\u001b[0m\n\u001b[1;32m     20\u001b[0m \u001b[0mi\u001b[0m \u001b[0;34m=\u001b[0m \u001b[0;36m0\u001b[0m\u001b[0;34m\u001b[0m\u001b[0m\n\u001b[0;32m---> 21\u001b[0;31m \u001b[0;32mfor\u001b[0m \u001b[0mbatch\u001b[0m \u001b[0;32min\u001b[0m \u001b[0mdatagen\u001b[0m\u001b[0;34m.\u001b[0m\u001b[0mflow\u001b[0m\u001b[0;34m(\u001b[0m\u001b[0mx\u001b[0m\u001b[0;34m,\u001b[0m \u001b[0mbatch_size\u001b[0m\u001b[0;34m=\u001b[0m\u001b[0;36m1\u001b[0m\u001b[0;34m)\u001b[0m\u001b[0;34m:\u001b[0m\u001b[0;34m\u001b[0m\u001b[0m\n\u001b[0m\u001b[1;32m     22\u001b[0m     \u001b[0mplt\u001b[0m\u001b[0;34m.\u001b[0m\u001b[0mfigure\u001b[0m\u001b[0;34m(\u001b[0m\u001b[0mi\u001b[0m\u001b[0;34m)\u001b[0m\u001b[0;34m\u001b[0m\u001b[0m\n\u001b[1;32m     23\u001b[0m     \u001b[0mimgplot\u001b[0m \u001b[0;34m=\u001b[0m \u001b[0mplt\u001b[0m\u001b[0;34m.\u001b[0m\u001b[0mimshow\u001b[0m\u001b[0;34m(\u001b[0m\u001b[0mimage\u001b[0m\u001b[0;34m.\u001b[0m\u001b[0marray_to_img\u001b[0m\u001b[0;34m(\u001b[0m\u001b[0mbatch\u001b[0m\u001b[0;34m[\u001b[0m\u001b[0;36m0\u001b[0m\u001b[0;34m]\u001b[0m\u001b[0;34m)\u001b[0m\u001b[0;34m)\u001b[0m\u001b[0;34m\u001b[0m\u001b[0m\n",
      "\u001b[0;31mNameError\u001b[0m: name 'datagen' is not defined"
     ]
    }
   ],
   "source": [
    "# This is module with image preprocessing utilities\n",
    "from tensorflow.keras.preprocessing import image\n",
    "\n",
    "fnames = [os.path.join(train_cats_dir, fname) for fname in os.listdir(train_cats_dir)]\n",
    "\n",
    "# We pick one image to \"augment\"\n",
    "img_path = fnames[3]\n",
    "\n",
    "# Read the image and resize it\n",
    "img = image.load_img(img_path, target_size=(150, 150))\n",
    "\n",
    "# Convert it to a Numpy array with shape (150, 150, 3)\n",
    "x = image.img_to_array(img)\n",
    "\n",
    "# Reshape it to (1, 150, 150, 3)\n",
    "x = x.reshape((1,) + x.shape)\n",
    "\n",
    "# The .flow() command below generates batches of randomly transformed images.\n",
    "# It will loop indefinitely, so we need to `break` the loop at some point!\n",
    "i = 0\n",
    "for batch in datagen.flow(x, batch_size=1):\n",
    "    plt.figure(i)\n",
    "    imgplot = plt.imshow(image.array_to_img(batch[0]))\n",
    "    i += 1\n",
    "    if i % 4 == 0:\n",
    "        break\n",
    "\n",
    "plt.show()"
   ]
  },
  {
   "cell_type": "markdown",
   "metadata": {},
   "source": [
    "If we train a new network using this data augmentation configuration, our network will never see twice the same input. However, the inputs \n",
    "that it sees are still heavily intercorrelated, since they come from a small number of original images -- we cannot produce new information, \n",
    "we can only remix existing information. As such, this might not be quite enough to completely get rid of overfitting. To further fight \n",
    "overfitting, we will also add a Dropout layer to our model, right before the densely-connected classifier:"
   ]
  },
  {
   "cell_type": "code",
   "execution_count": 24,
   "metadata": {},
   "outputs": [],
   "source": [
    "model = models.Sequential()\n",
    "model.add(layers.Conv2D(32, (3, 3), activation='relu',\n",
    "                        input_shape=(150, 150, 3)))\n",
    "model.add(layers.MaxPooling2D((2, 2)))\n",
    "model.add(layers.Conv2D(64, (3, 3), activation='relu'))\n",
    "model.add(layers.MaxPooling2D((2, 2)))\n",
    "model.add(layers.Conv2D(128, (3, 3), activation='relu'))\n",
    "model.add(layers.MaxPooling2D((2, 2)))\n",
    "model.add(layers.Conv2D(128, (3, 3), activation='relu'))\n",
    "model.add(layers.MaxPooling2D((2, 2)))\n",
    "model.add(layers.Flatten())\n",
    "model.add(layers.Dropout(0.5))\n",
    "model.add(layers.Dense(512, activation='relu'))\n",
    "model.add(layers.Dense(1, activation='sigmoid'))\n",
    "\n",
    "model.compile(loss='binary_crossentropy',\n",
    "              optimizer=optimizers.RMSprop(lr=1e-4),\n",
    "              metrics=['acc'])"
   ]
  },
  {
   "cell_type": "markdown",
   "metadata": {},
   "source": [
    "Let's train our network using data augmentation and dropout:"
   ]
  },
  {
   "cell_type": "code",
   "execution_count": 25,
   "metadata": {
    "scrolled": false
   },
   "outputs": [
    {
     "name": "stdout",
     "output_type": "stream",
     "text": [
      "Found 2000 images belonging to 2 classes.\n",
      "Found 1000 images belonging to 2 classes.\n",
      "Epoch 1/100\n",
      "100/100 [==============================] - 18s 184ms/step - loss: 0.6933 - acc: 0.5138 - val_loss: 0.6795 - val_acc: 0.5032\n",
      "Epoch 2/100\n",
      "100/100 [==============================] - 17s 168ms/step - loss: 0.6786 - acc: 0.5638 - val_loss: 0.6425 - val_acc: 0.6288\n",
      "Epoch 3/100\n",
      "100/100 [==============================] - 17s 167ms/step - loss: 0.6678 - acc: 0.5764 - val_loss: 0.6371 - val_acc: 0.6358\n",
      "Epoch 4/100\n",
      "100/100 [==============================] - 17s 167ms/step - loss: 0.6478 - acc: 0.6093 - val_loss: 0.6060 - val_acc: 0.6707\n",
      "Epoch 5/100\n",
      "100/100 [==============================] - 17s 168ms/step - loss: 0.6334 - acc: 0.6386 - val_loss: 0.5923 - val_acc: 0.6650\n",
      "Epoch 6/100\n",
      "100/100 [==============================] - 18s 179ms/step - loss: 0.6191 - acc: 0.6520 - val_loss: 0.6240 - val_acc: 0.6168\n",
      "Epoch 7/100\n",
      "100/100 [==============================] - 17s 167ms/step - loss: 0.6091 - acc: 0.6575 - val_loss: 0.5605 - val_acc: 0.7119\n",
      "Epoch 8/100\n",
      "100/100 [==============================] - 17s 168ms/step - loss: 0.5952 - acc: 0.6736 - val_loss: 0.5539 - val_acc: 0.7049\n",
      "Epoch 9/100\n",
      "100/100 [==============================] - 17s 168ms/step - loss: 0.5949 - acc: 0.6818 - val_loss: 0.5463 - val_acc: 0.7056\n",
      "Epoch 10/100\n",
      "100/100 [==============================] - 17s 168ms/step - loss: 0.5816 - acc: 0.6761 - val_loss: 0.5572 - val_acc: 0.7075\n",
      "Epoch 11/100\n",
      "100/100 [==============================] - 17s 175ms/step - loss: 0.5818 - acc: 0.6960 - val_loss: 0.5508 - val_acc: 0.7189\n",
      "Epoch 12/100\n",
      "100/100 [==============================] - 17s 169ms/step - loss: 0.5775 - acc: 0.6910 - val_loss: 0.5647 - val_acc: 0.6980\n",
      "Epoch 13/100\n",
      "100/100 [==============================] - 17s 168ms/step - loss: 0.5692 - acc: 0.7049 - val_loss: 0.5474 - val_acc: 0.7081\n",
      "Epoch 14/100\n",
      "100/100 [==============================] - 17s 168ms/step - loss: 0.5572 - acc: 0.7186 - val_loss: 0.6210 - val_acc: 0.6593\n",
      "Epoch 15/100\n",
      "100/100 [==============================] - 17s 168ms/step - loss: 0.5566 - acc: 0.7118 - val_loss: 0.5881 - val_acc: 0.6865\n",
      "Epoch 16/100\n",
      "100/100 [==============================] - 17s 170ms/step - loss: 0.5440 - acc: 0.7280 - val_loss: 0.5625 - val_acc: 0.7100\n",
      "Epoch 17/100\n",
      "100/100 [==============================] - 17s 168ms/step - loss: 0.5526 - acc: 0.7143 - val_loss: 0.5229 - val_acc: 0.7322\n",
      "Epoch 18/100\n",
      "100/100 [==============================] - 18s 183ms/step - loss: 0.5413 - acc: 0.7242 - val_loss: 0.5295 - val_acc: 0.7303\n",
      "Epoch 19/100\n",
      "100/100 [==============================] - 17s 167ms/step - loss: 0.5319 - acc: 0.7273 - val_loss: 0.5154 - val_acc: 0.7475\n",
      "Epoch 20/100\n",
      "100/100 [==============================] - 17s 167ms/step - loss: 0.5366 - acc: 0.7203 - val_loss: 0.5358 - val_acc: 0.7240\n",
      "Epoch 21/100\n",
      "100/100 [==============================] - 17s 168ms/step - loss: 0.5237 - acc: 0.7453 - val_loss: 0.5041 - val_acc: 0.7475\n",
      "Epoch 22/100\n",
      "100/100 [==============================] - 17s 167ms/step - loss: 0.5318 - acc: 0.7324 - val_loss: 0.5175 - val_acc: 0.7392\n",
      "Epoch 23/100\n",
      "100/100 [==============================] - 18s 178ms/step - loss: 0.5171 - acc: 0.7362 - val_loss: 0.5046 - val_acc: 0.7494\n",
      "Epoch 24/100\n",
      "100/100 [==============================] - 17s 167ms/step - loss: 0.5185 - acc: 0.7500 - val_loss: 0.5186 - val_acc: 0.7322\n",
      "Epoch 25/100\n",
      "100/100 [==============================] - 17s 167ms/step - loss: 0.5177 - acc: 0.7405 - val_loss: 0.4883 - val_acc: 0.7589\n",
      "Epoch 26/100\n",
      "100/100 [==============================] - 17s 167ms/step - loss: 0.5175 - acc: 0.7352 - val_loss: 0.5096 - val_acc: 0.7398\n",
      "Epoch 27/100\n",
      "100/100 [==============================] - 17s 168ms/step - loss: 0.5040 - acc: 0.7535 - val_loss: 0.4905 - val_acc: 0.7614\n",
      "Epoch 28/100\n",
      "100/100 [==============================] - 17s 173ms/step - loss: 0.5184 - acc: 0.7431 - val_loss: 0.4904 - val_acc: 0.7602\n",
      "Epoch 29/100\n",
      "100/100 [==============================] - 17s 168ms/step - loss: 0.5049 - acc: 0.7566 - val_loss: 0.4733 - val_acc: 0.7659\n",
      "Epoch 30/100\n",
      "100/100 [==============================] - 17s 167ms/step - loss: 0.5102 - acc: 0.7393 - val_loss: 0.4705 - val_acc: 0.7659\n",
      "Epoch 31/100\n",
      "100/100 [==============================] - 17s 167ms/step - loss: 0.4854 - acc: 0.7654 - val_loss: 0.4924 - val_acc: 0.7468\n",
      "Epoch 32/100\n",
      "100/100 [==============================] - 17s 168ms/step - loss: 0.4975 - acc: 0.7547 - val_loss: 0.4908 - val_acc: 0.7449\n",
      "Epoch 33/100\n",
      "100/100 [==============================] - 17s 169ms/step - loss: 0.4879 - acc: 0.7643 - val_loss: 0.5140 - val_acc: 0.7430\n",
      "Epoch 34/100\n",
      "100/100 [==============================] - 17s 166ms/step - loss: 0.4937 - acc: 0.7566 - val_loss: 0.4622 - val_acc: 0.7697\n",
      "Epoch 35/100\n",
      "100/100 [==============================] - 18s 181ms/step - loss: 0.4805 - acc: 0.7680 - val_loss: 0.4892 - val_acc: 0.7627\n",
      "Epoch 36/100\n",
      "100/100 [==============================] - 17s 169ms/step - loss: 0.4834 - acc: 0.7622 - val_loss: 0.4635 - val_acc: 0.7709\n",
      "Epoch 37/100\n",
      "100/100 [==============================] - 17s 167ms/step - loss: 0.4779 - acc: 0.7702 - val_loss: 0.4674 - val_acc: 0.7690\n",
      "Epoch 38/100\n",
      "100/100 [==============================] - 17s 169ms/step - loss: 0.4736 - acc: 0.7751 - val_loss: 0.4429 - val_acc: 0.7843\n",
      "Epoch 39/100\n",
      "100/100 [==============================] - 17s 166ms/step - loss: 0.4857 - acc: 0.7683 - val_loss: 0.4853 - val_acc: 0.7563\n",
      "Epoch 40/100\n",
      "100/100 [==============================] - 18s 177ms/step - loss: 0.4637 - acc: 0.7831 - val_loss: 0.4425 - val_acc: 0.7951\n",
      "Epoch 41/100\n",
      "100/100 [==============================] - 17s 169ms/step - loss: 0.4772 - acc: 0.7641 - val_loss: 0.4669 - val_acc: 0.7741\n",
      "Epoch 42/100\n",
      "100/100 [==============================] - 17s 166ms/step - loss: 0.4676 - acc: 0.7715 - val_loss: 0.4513 - val_acc: 0.7951\n",
      "Epoch 43/100\n",
      "100/100 [==============================] - 17s 169ms/step - loss: 0.4583 - acc: 0.7849 - val_loss: 0.4866 - val_acc: 0.7494\n",
      "Epoch 44/100\n",
      "100/100 [==============================] - 17s 167ms/step - loss: 0.4781 - acc: 0.7705 - val_loss: 0.4787 - val_acc: 0.7665\n",
      "Epoch 45/100\n",
      "100/100 [==============================] - 17s 172ms/step - loss: 0.4483 - acc: 0.7877 - val_loss: 0.4489 - val_acc: 0.7887\n",
      "Epoch 46/100\n",
      "100/100 [==============================] - 17s 168ms/step - loss: 0.4508 - acc: 0.7794 - val_loss: 0.4349 - val_acc: 0.7963\n",
      "Epoch 47/100\n",
      "100/100 [==============================] - 17s 168ms/step - loss: 0.4521 - acc: 0.7924 - val_loss: 0.4338 - val_acc: 0.7855\n",
      "Epoch 48/100\n",
      "100/100 [==============================] - 17s 169ms/step - loss: 0.4548 - acc: 0.7895 - val_loss: 0.4628 - val_acc: 0.7671\n",
      "Epoch 49/100\n",
      "100/100 [==============================] - 17s 168ms/step - loss: 0.4495 - acc: 0.7780 - val_loss: 0.4888 - val_acc: 0.7697\n",
      "Epoch 50/100\n",
      "100/100 [==============================] - 17s 168ms/step - loss: 0.4469 - acc: 0.7891 - val_loss: 0.4357 - val_acc: 0.7931\n",
      "Epoch 51/100\n",
      "100/100 [==============================] - 17s 167ms/step - loss: 0.4465 - acc: 0.7895 - val_loss: 0.4519 - val_acc: 0.7849\n",
      "Epoch 52/100\n",
      "100/100 [==============================] - 18s 180ms/step - loss: 0.4441 - acc: 0.7917 - val_loss: 0.4568 - val_acc: 0.7760\n",
      "Epoch 53/100\n",
      "100/100 [==============================] - 17s 169ms/step - loss: 0.4257 - acc: 0.8062 - val_loss: 0.5327 - val_acc: 0.7563\n",
      "Epoch 54/100\n",
      "100/100 [==============================] - 17s 168ms/step - loss: 0.4341 - acc: 0.7952 - val_loss: 0.4284 - val_acc: 0.7995\n",
      "Epoch 55/100\n",
      "100/100 [==============================] - 17s 170ms/step - loss: 0.4351 - acc: 0.7977 - val_loss: 0.4447 - val_acc: 0.7824\n",
      "Epoch 56/100\n",
      "100/100 [==============================] - 17s 166ms/step - loss: 0.4280 - acc: 0.8018 - val_loss: 0.4706 - val_acc: 0.7735\n",
      "Epoch 57/100\n",
      "100/100 [==============================] - 18s 175ms/step - loss: 0.4253 - acc: 0.8031 - val_loss: 0.4283 - val_acc: 0.7843\n",
      "Epoch 58/100\n",
      "100/100 [==============================] - 17s 169ms/step - loss: 0.4366 - acc: 0.7977 - val_loss: 0.4277 - val_acc: 0.8001\n",
      "Epoch 59/100\n",
      "100/100 [==============================] - 17s 168ms/step - loss: 0.4265 - acc: 0.8030 - val_loss: 0.4284 - val_acc: 0.8020\n",
      "Epoch 60/100\n",
      "100/100 [==============================] - 17s 169ms/step - loss: 0.4243 - acc: 0.8009 - val_loss: 0.4495 - val_acc: 0.7944\n",
      "Epoch 61/100\n",
      "100/100 [==============================] - 17s 168ms/step - loss: 0.4282 - acc: 0.8002 - val_loss: 0.4447 - val_acc: 0.7906\n",
      "Epoch 62/100\n",
      "100/100 [==============================] - 17s 171ms/step - loss: 0.4211 - acc: 0.8112 - val_loss: 0.4299 - val_acc: 0.7976\n",
      "Epoch 63/100\n",
      "100/100 [==============================] - 17s 168ms/step - loss: 0.4307 - acc: 0.7980 - val_loss: 0.4126 - val_acc: 0.8103\n",
      "Epoch 64/100\n",
      "100/100 [==============================] - 17s 167ms/step - loss: 0.4346 - acc: 0.7961 - val_loss: 0.4308 - val_acc: 0.7951\n",
      "Epoch 65/100\n",
      "100/100 [==============================] - 17s 169ms/step - loss: 0.4116 - acc: 0.8084 - val_loss: 0.4411 - val_acc: 0.7843\n",
      "Epoch 66/100\n",
      "100/100 [==============================] - 17s 167ms/step - loss: 0.4110 - acc: 0.8037 - val_loss: 0.4602 - val_acc: 0.7659\n",
      "Epoch 67/100\n",
      "100/100 [==============================] - 17s 168ms/step - loss: 0.4111 - acc: 0.8131 - val_loss: 0.4504 - val_acc: 0.7881\n",
      "Epoch 68/100\n",
      "100/100 [==============================] - 17s 166ms/step - loss: 0.3952 - acc: 0.8128 - val_loss: 0.5129 - val_acc: 0.7589\n",
      "Epoch 69/100\n",
      "100/100 [==============================] - 18s 179ms/step - loss: 0.4025 - acc: 0.8131 - val_loss: 0.4620 - val_acc: 0.7900\n",
      "Epoch 70/100\n",
      "100/100 [==============================] - 17s 170ms/step - loss: 0.3992 - acc: 0.8090 - val_loss: 0.4350 - val_acc: 0.7830\n",
      "Epoch 71/100\n",
      "100/100 [==============================] - 17s 169ms/step - loss: 0.3991 - acc: 0.8210 - val_loss: 0.4130 - val_acc: 0.8090\n",
      "Epoch 72/100\n",
      "100/100 [==============================] - 17s 168ms/step - loss: 0.3962 - acc: 0.8125 - val_loss: 0.4184 - val_acc: 0.7957\n",
      "Epoch 73/100\n",
      "100/100 [==============================] - 17s 167ms/step - loss: 0.3863 - acc: 0.8220 - val_loss: 0.4317 - val_acc: 0.7957\n",
      "Epoch 74/100\n",
      "100/100 [==============================] - 17s 174ms/step - loss: 0.4012 - acc: 0.8185 - val_loss: 0.4468 - val_acc: 0.7919\n",
      "Epoch 75/100\n",
      "100/100 [==============================] - 17s 168ms/step - loss: 0.3942 - acc: 0.8198 - val_loss: 0.4186 - val_acc: 0.8039\n",
      "Epoch 76/100\n",
      "100/100 [==============================] - 17s 168ms/step - loss: 0.3869 - acc: 0.8222 - val_loss: 0.3959 - val_acc: 0.8198\n",
      "Epoch 77/100\n",
      "100/100 [==============================] - 17s 167ms/step - loss: 0.3814 - acc: 0.8318 - val_loss: 0.4023 - val_acc: 0.8084\n",
      "Epoch 78/100\n",
      "100/100 [==============================] - 17s 167ms/step - loss: 0.3868 - acc: 0.8305 - val_loss: 0.4579 - val_acc: 0.7900\n",
      "Epoch 79/100\n",
      "100/100 [==============================] - 17s 170ms/step - loss: 0.3786 - acc: 0.8352 - val_loss: 0.4449 - val_acc: 0.7836\n",
      "Epoch 80/100\n",
      "100/100 [==============================] - 17s 167ms/step - loss: 0.3892 - acc: 0.8210 - val_loss: 0.4508 - val_acc: 0.7963\n",
      "Epoch 81/100\n",
      "100/100 [==============================] - 18s 183ms/step - loss: 0.3825 - acc: 0.8307 - val_loss: 0.4515 - val_acc: 0.8020\n",
      "Epoch 82/100\n",
      "100/100 [==============================] - 17s 167ms/step - loss: 0.3780 - acc: 0.8264 - val_loss: 0.4906 - val_acc: 0.7614\n",
      "Epoch 83/100\n",
      "100/100 [==============================] - 17s 167ms/step - loss: 0.3840 - acc: 0.8299 - val_loss: 0.4189 - val_acc: 0.8077\n",
      "Epoch 84/100\n",
      "100/100 [==============================] - 17s 169ms/step - loss: 0.3703 - acc: 0.8301 - val_loss: 0.3953 - val_acc: 0.8198\n",
      "Epoch 85/100\n",
      "100/100 [==============================] - 17s 165ms/step - loss: 0.3542 - acc: 0.8390 - val_loss: 0.3951 - val_acc: 0.8141\n",
      "Epoch 86/100\n",
      "100/100 [==============================] - 18s 178ms/step - loss: 0.3595 - acc: 0.8406 - val_loss: 0.4381 - val_acc: 0.8039\n",
      "Epoch 87/100\n",
      "100/100 [==============================] - 17s 169ms/step - loss: 0.3822 - acc: 0.8320 - val_loss: 0.4392 - val_acc: 0.8065\n",
      "Epoch 88/100\n",
      "100/100 [==============================] - 17s 168ms/step - loss: 0.3703 - acc: 0.8310 - val_loss: 0.4651 - val_acc: 0.7957\n",
      "Epoch 89/100\n",
      "100/100 [==============================] - 17s 168ms/step - loss: 0.3620 - acc: 0.8406 - val_loss: 0.4189 - val_acc: 0.8014\n",
      "Epoch 90/100\n",
      "100/100 [==============================] - 17s 168ms/step - loss: 0.3504 - acc: 0.8433 - val_loss: 0.4041 - val_acc: 0.8071\n",
      "Epoch 91/100\n",
      "100/100 [==============================] - 17s 173ms/step - loss: 0.3679 - acc: 0.8305 - val_loss: 0.4320 - val_acc: 0.7963\n",
      "Epoch 92/100\n",
      "100/100 [==============================] - 17s 169ms/step - loss: 0.3627 - acc: 0.8441 - val_loss: 0.3906 - val_acc: 0.8255\n",
      "Epoch 93/100\n",
      "100/100 [==============================] - 17s 168ms/step - loss: 0.3558 - acc: 0.8444 - val_loss: 0.3941 - val_acc: 0.8090\n",
      "Epoch 94/100\n",
      "100/100 [==============================] - 17s 169ms/step - loss: 0.3664 - acc: 0.8386 - val_loss: 0.3992 - val_acc: 0.8128\n",
      "Epoch 95/100\n",
      "100/100 [==============================] - 17s 167ms/step - loss: 0.3415 - acc: 0.8516 - val_loss: 0.3760 - val_acc: 0.8185\n",
      "Epoch 96/100\n",
      "100/100 [==============================] - 17s 168ms/step - loss: 0.3518 - acc: 0.8456 - val_loss: 0.4995 - val_acc: 0.7728\n",
      "Epoch 97/100\n",
      "100/100 [==============================] - 17s 167ms/step - loss: 0.3388 - acc: 0.8543 - val_loss: 0.3727 - val_acc: 0.8395\n",
      "Epoch 98/100\n",
      "100/100 [==============================] - 18s 181ms/step - loss: 0.3566 - acc: 0.8409 - val_loss: 0.4353 - val_acc: 0.8058\n",
      "Epoch 99/100\n",
      "100/100 [==============================] - 17s 169ms/step - loss: 0.3407 - acc: 0.8514 - val_loss: 0.5162 - val_acc: 0.7805\n",
      "Epoch 100/100\n",
      "100/100 [==============================] - 17s 168ms/step - loss: 0.3407 - acc: 0.8472 - val_loss: 0.4468 - val_acc: 0.8071\n"
     ]
    }
   ],
   "source": [
    "train_datagen = ImageDataGenerator(\n",
    "    rescale=1./255,\n",
    "    rotation_range=40,\n",
    "    width_shift_range=0.2,\n",
    "    height_shift_range=0.2,\n",
    "    shear_range=0.2,\n",
    "    zoom_range=0.2,\n",
    "    horizontal_flip=True,)\n",
    "\n",
    "# Note that the validation data should not be augmented!\n",
    "test_datagen = ImageDataGenerator(rescale=1./255)\n",
    "\n",
    "train_generator = train_datagen.flow_from_directory(\n",
    "        # This is the target directory\n",
    "        train_dir,\n",
    "        # All images will be resized to 150x150\n",
    "        target_size=(150, 150),\n",
    "        batch_size=32,\n",
    "        # Since we use binary_crossentropy loss, we need binary labels\n",
    "        class_mode='binary')\n",
    "\n",
    "validation_generator = test_datagen.flow_from_directory(\n",
    "        validation_dir,\n",
    "        target_size=(150, 150),\n",
    "        batch_size=32,\n",
    "        class_mode='binary')\n",
    "\n",
    "history = model.fit_generator(\n",
    "      train_generator,\n",
    "      steps_per_epoch=100,\n",
    "      epochs=100,\n",
    "      validation_data=validation_generator,\n",
    "      validation_steps=50)"
   ]
  },
  {
   "cell_type": "markdown",
   "metadata": {},
   "source": [
    "Let's save our model -- we will be using it in the section on convnet visualization."
   ]
  },
  {
   "cell_type": "code",
   "execution_count": 31,
   "metadata": {},
   "outputs": [],
   "source": [
    "model.save('cats_and_dogs_small_2.h5')"
   ]
  },
  {
   "cell_type": "markdown",
   "metadata": {},
   "source": [
    "Let's plot our results again:"
   ]
  },
  {
   "cell_type": "code",
   "execution_count": 26,
   "metadata": {},
   "outputs": [
    {
     "data": {
      "image/png": "[encoded data removed]",
      "text/plain": [
       "<Figure size 432x288 with 1 Axes>"
      ]
     },
     "metadata": {},
     "output_type": "display_data"
    },
    {
     "data": {
      "image/png": "[encoded data removed]",
      "text/plain": [
       "<Figure size 432x288 with 1 Axes>"
      ]
     },
     "metadata": {},
     "output_type": "display_data"
    }
   ],
   "source": [
    "acc = history.history['acc']\n",
    "val_acc = history.history['val_acc']\n",
    "loss = history.history['loss']\n",
    "val_loss = history.history['val_loss']\n",
    "\n",
    "epochs = range(len(acc))\n",
    "\n",
    "plt.plot(epochs, acc, 'bo', label='Training acc')\n",
    "plt.plot(epochs, val_acc, 'b', label='Validation acc')\n",
    "plt.title('Training and validation accuracy')\n",
    "plt.legend()\n",
    "\n",
    "plt.figure()\n",
    "\n",
    "plt.plot(epochs, loss, 'bo', label='Training loss')\n",
    "plt.plot(epochs, val_loss, 'b', label='Validation loss')\n",
    "plt.title('Training and validation loss')\n",
    "plt.legend()\n",
    "\n",
    "plt.show()"
   ]
  },
  {
   "cell_type": "markdown",
   "metadata": {},
   "source": [
    "Thanks to data augmentation and dropout, we are no longer overfitting: the training curves are rather closely tracking the validation \n",
    "curves. We are now able to reach an accuracy of 82%, a 15% relative improvement over the non-regularized model.\n",
    "\n",
    "By leveraging regularization techniques even further and by tuning the network's parameters (such as the number of filters per convolution \n",
    "layer, or the number of layers in the network), we may be able to get an even better accuracy, likely up to 86-87%. However, it would prove \n",
    "very difficult to go any higher just by training our own convnet from scratch, simply because we have so little data to work with. As a \n",
    "next step to improve our accuracy on this problem, we will have to leverage a pre-trained model, which will be the focus of the next two \n",
    "sections."
   ]
  }
 ],
 "metadata": {
  "kernelspec": {
   "display_name": "Python 3",
   "language": "python",
   "name": "python3"
  },
  "language_info": {
   "codemirror_mode": {
    "name": "ipython",
    "version": 3
   },
   "file_extension": ".py",
   "mimetype": "text/x-python",
   "name": "python",
   "nbconvert_exporter": "python",
   "pygments_lexer": "ipython3",
   "version": "3.6.5"
  }
 },
 "nbformat": 4,
 "nbformat_minor": 2
}
