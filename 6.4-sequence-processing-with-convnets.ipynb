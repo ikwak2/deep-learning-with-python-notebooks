{
  "nbformat": 4,
  "nbformat_minor": 0,
  "metadata": {
    "kernelspec": {
      "display_name": "Python 3",
      "language": "python",
      "name": "python3"
    },
    "language_info": {
      "codemirror_mode": {
        "name": "ipython",
        "version": 3
      },
      "file_extension": ".py",
      "mimetype": "text/x-python",
      "name": "python",
      "nbconvert_exporter": "python",
      "pygments_lexer": "ipython3",
      "version": "3.6.5"
    },
    "colab": {
      "name": "6.4-sequence-processing-with-convnets.ipynb",
      "provenance": [],
      "include_colab_link": true
    },
    "accelerator": "GPU"
  },
  "cells": [
    {
      "cell_type": "markdown",
      "metadata": {
        "id": "view-in-github",
        "colab_type": "text"
      },
      "source": [
        "<a href=\"https://colab.research.google.com/github/ikwak2/deep-learning-with-python-notebooks/blob/master/6.4-sequence-processing-with-convnets.ipynb\" target=\"_parent\"><img src=\"https://colab.research.google.com/assets/colab-badge.svg\" alt=\"Open In Colab\"/></a>"
      ]
    },
    {
      "cell_type": "code",
      "metadata": {
        "id": "1GD9fKUhKsh9",
        "outputId": "225e6555-9bd3-4810-8414-f1bff8f564c1",
        "colab": {
          "base_uri": "https://localhost:8080/",
          "height": 35
        }
      },
      "source": [
        "import tensorflow\n",
        "tensorflow.keras.__version__"
      ],
      "execution_count": 1,
      "outputs": [
        {
          "output_type": "execute_result",
          "data": {
            "application/vnd.google.colaboratory.intrinsic+json": {
              "type": "string"
            },
            "text/plain": [
              "'2.5.0'"
            ]
          },
          "metadata": {
            "tags": []
          },
          "execution_count": 1
        }
      ]
    },
    {
      "cell_type": "markdown",
      "metadata": {
        "id": "AcwDUEtLKsiE"
      },
      "source": [
        "# Sequence processing with convnets\n",
        "\n",
        "This notebook contains the code samples found in Chapter 6, Section 4 of [Deep Learning with Python](https://www.manning.com/books/deep-learning-with-python?a_aid=keras&a_bid=76564dff). Note that the original text features far more content, in particular further explanations and figures: in this notebook, you will only find source code and related comments.\n",
        "\n",
        "\n",
        "## Implementing a 1D convnet\n",
        "\n",
        "In Keras, you would use a 1D convnet via the `Conv1D` layer, which has a very similar interface to `Conv2D`. It takes as input 3D tensors \n",
        "with shape `(samples, time, features)` and also returns similarly-shaped 3D tensors. The convolution window is a 1D window on the temporal \n",
        "axis, axis 1 in the input tensor.\n",
        "\n",
        "Let's build a simple 2-layer 1D convnet and apply it to the IMDB sentiment classification task that you are already familiar with.\n",
        "\n",
        "As a reminder, this is the code for obtaining and preprocessing the data:"
      ]
    },
    {
      "cell_type": "code",
      "metadata": {
        "id": "YPOJLfekKsiG",
        "outputId": "e65dc973-3cc5-4b2f-cf92-16ddb632be19",
        "colab": {
          "base_uri": "https://localhost:8080/"
        }
      },
      "source": [
        "from tensorflow.keras.datasets import imdb\n",
        "from tensorflow.keras.preprocessing import sequence\n",
        "\n",
        "max_features = 10000  # number of words to consider as features\n",
        "max_len = 500  # cut texts after this number of words (among top max_features most common words)\n",
        "\n",
        "print('Loading data...')\n",
        "(x_train, y_train), (x_test, y_test) = imdb.load_data(num_words=max_features)\n",
        "print(len(x_train), 'train sequences')\n",
        "print(len(x_test), 'test sequences')\n",
        "\n",
        "print('Pad sequences (samples x time)')\n",
        "x_train = sequence.pad_sequences(x_train, maxlen=max_len)\n",
        "x_test = sequence.pad_sequences(x_test, maxlen=max_len)\n",
        "print('x_train shape:', x_train.shape)\n",
        "print('x_test shape:', x_test.shape)"
      ],
      "execution_count": 2,
      "outputs": [
        {
          "output_type": "stream",
          "text": [
            "Loading data...\n",
            "Downloading data from https://storage.googleapis.com/tensorflow/tf-keras-datasets/imdb.npz\n",
            "17465344/17464789 [==============================] - 0s 0us/step\n"
          ],
          "name": "stdout"
        },
        {
          "output_type": "stream",
          "text": [
            "<string>:6: VisibleDeprecationWarning: Creating an ndarray from ragged nested sequences (which is a list-or-tuple of lists-or-tuples-or ndarrays with different lengths or shapes) is deprecated. If you meant to do this, you must specify 'dtype=object' when creating the ndarray\n",
            "/usr/local/lib/python3.7/dist-packages/tensorflow/python/keras/datasets/imdb.py:155: VisibleDeprecationWarning: Creating an ndarray from ragged nested sequences (which is a list-or-tuple of lists-or-tuples-or ndarrays with different lengths or shapes) is deprecated. If you meant to do this, you must specify 'dtype=object' when creating the ndarray\n",
            "  x_train, y_train = np.array(xs[:idx]), np.array(labels[:idx])\n",
            "/usr/local/lib/python3.7/dist-packages/tensorflow/python/keras/datasets/imdb.py:156: VisibleDeprecationWarning: Creating an ndarray from ragged nested sequences (which is a list-or-tuple of lists-or-tuples-or ndarrays with different lengths or shapes) is deprecated. If you meant to do this, you must specify 'dtype=object' when creating the ndarray\n",
            "  x_test, y_test = np.array(xs[idx:]), np.array(labels[idx:])\n"
          ],
          "name": "stderr"
        },
        {
          "output_type": "stream",
          "text": [
            "25000 train sequences\n",
            "25000 test sequences\n",
            "Pad sequences (samples x time)\n",
            "x_train shape: (25000, 500)\n",
            "x_test shape: (25000, 500)\n"
          ],
          "name": "stdout"
        }
      ]
    },
    {
      "cell_type": "markdown",
      "metadata": {
        "id": "cHPKvfhxKsiI"
      },
      "source": [
        "\n",
        "1D convnets are structured in the same way as their 2D counter-parts that you have used in Chapter 5: they consist of a stack of `Conv1D` \n",
        "and `MaxPooling1D` layers, eventually ending in either a global pooling layer or a `Flatten` layer, turning the 3D outputs into 2D outputs, \n",
        "allowing to add one or more `Dense` layers to the model, for classification or regression.\n",
        "\n",
        "One difference, though, is the fact that we can afford to use larger convolution windows with 1D convnets. Indeed, with a 2D convolution \n",
        "layer, a 3x3 convolution window contains 3*3 = 9 feature vectors, but with a 1D convolution layer, a convolution window of size 3 would \n",
        "only contain 3 feature vectors. We can thus easily afford 1D convolution windows of size 7 or 9.\n",
        "\n",
        "This is our example 1D convnet for the IMDB dataset:"
      ]
    },
    {
      "cell_type": "code",
      "metadata": {
        "id": "JBpwzagEKsiJ",
        "outputId": "1d25909b-29d4-4c3b-efa9-61b12aaaa415",
        "colab": {
          "base_uri": "https://localhost:8080/"
        }
      },
      "source": [
        "from tensorflow.keras.models import Sequential\n",
        "from tensorflow.keras import layers\n",
        "from tensorflow.keras.optimizers import RMSprop\n",
        "\n",
        "model = Sequential()\n",
        "model.add(layers.Embedding(max_features, 128, input_length=max_len))\n",
        "model.add(layers.Conv1D(32, 7, activation='relu'))\n",
        "model.add(layers.MaxPooling1D(5))\n",
        "model.add(layers.Conv1D(32, 7, activation='relu'))\n",
        "model.add(layers.GlobalMaxPooling1D())\n",
        "model.add(layers.Dense(1))\n",
        "\n",
        "model.summary()\n",
        "\n",
        "model.compile(optimizer=RMSprop(),\n",
        "              loss='binary_crossentropy',\n",
        "              metrics=['acc'])\n",
        "history = model.fit(x_train, y_train,\n",
        "                    epochs=10,\n",
        "                    batch_size=128,\n",
        "                    validation_split=0.2)"
      ],
      "execution_count": 4,
      "outputs": [
        {
          "output_type": "stream",
          "text": [
            "Model: \"sequential_1\"\n",
            "_________________________________________________________________\n",
            "Layer (type)                 Output Shape              Param #   \n",
            "=================================================================\n",
            "embedding_1 (Embedding)      (None, 500, 128)          1280000   \n",
            "_________________________________________________________________\n",
            "conv1d_2 (Conv1D)            (None, 494, 32)           28704     \n",
            "_________________________________________________________________\n",
            "max_pooling1d_1 (MaxPooling1 (None, 98, 32)            0         \n",
            "_________________________________________________________________\n",
            "conv1d_3 (Conv1D)            (None, 92, 32)            7200      \n",
            "_________________________________________________________________\n",
            "global_max_pooling1d_1 (Glob (None, 32)                0         \n",
            "_________________________________________________________________\n",
            "dense_1 (Dense)              (None, 1)                 33        \n",
            "=================================================================\n",
            "Total params: 1,315,937\n",
            "Trainable params: 1,315,937\n",
            "Non-trainable params: 0\n",
            "_________________________________________________________________\n",
            "Epoch 1/10\n",
            "157/157 [==============================] - 6s 34ms/step - loss: 0.6912 - acc: 0.6312 - val_loss: 0.6729 - val_acc: 0.7012\n",
            "Epoch 2/10\n",
            "157/157 [==============================] - 5s 31ms/step - loss: 0.3878 - acc: 0.8708 - val_loss: 0.4003 - val_acc: 0.8734\n",
            "Epoch 3/10\n",
            "157/157 [==============================] - 5s 31ms/step - loss: 0.3099 - acc: 0.9107 - val_loss: 0.4901 - val_acc: 0.8784\n",
            "Epoch 4/10\n",
            "157/157 [==============================] - 5s 31ms/step - loss: 0.2257 - acc: 0.9432 - val_loss: 0.5641 - val_acc: 0.8700\n",
            "Epoch 5/10\n",
            "157/157 [==============================] - 5s 31ms/step - loss: 0.1781 - acc: 0.9656 - val_loss: 0.6231 - val_acc: 0.8804\n",
            "Epoch 6/10\n",
            "157/157 [==============================] - 5s 31ms/step - loss: 0.1415 - acc: 0.9789 - val_loss: 0.7025 - val_acc: 0.8776\n",
            "Epoch 7/10\n",
            "157/157 [==============================] - 5s 31ms/step - loss: 0.1119 - acc: 0.9882 - val_loss: 1.1488 - val_acc: 0.8508\n",
            "Epoch 8/10\n",
            "157/157 [==============================] - 5s 31ms/step - loss: 0.1038 - acc: 0.9881 - val_loss: 0.9914 - val_acc: 0.8670\n",
            "Epoch 9/10\n",
            "157/157 [==============================] - 5s 31ms/step - loss: 0.0915 - acc: 0.9926 - val_loss: 1.2253 - val_acc: 0.8564\n",
            "Epoch 10/10\n",
            "157/157 [==============================] - 5s 31ms/step - loss: 0.0897 - acc: 0.9917 - val_loss: 1.0673 - val_acc: 0.8752\n"
          ],
          "name": "stdout"
        }
      ]
    },
    {
      "cell_type": "markdown",
      "metadata": {
        "id": "av-ifNJBKsiK"
      },
      "source": [
        "Here are our training and validation results: validation accuracy is somewhat lower than that of the LSTM we used two sections ago, but \n",
        "runtime is faster, both on CPU and GPU (albeit the exact speedup will vary greatly depending on your exact configuration). At that point, \n",
        "we could re-train this model for the right number of epochs (8), and run it on the test set. This is a convincing demonstration that a 1D \n",
        "convnet can offer a fast, cheap alternative to a recurrent network on a word-level sentiment classification task."
      ]
    },
    {
      "cell_type": "code",
      "metadata": {
        "id": "fi8XDEF8KsiL",
        "outputId": "e6e1b3ec-4ebf-4018-949c-5a5389f65ec6",
        "colab": {
          "base_uri": "https://localhost:8080/",
          "height": 545
        }
      },
      "source": [
        "import matplotlib.pyplot as plt\n",
        "\n",
        "acc = history.history['acc']\n",
        "val_acc = history.history['val_acc']\n",
        "loss = history.history['loss']\n",
        "val_loss = history.history['val_loss']\n",
        "\n",
        "epochs = range(len(acc))\n",
        "\n",
        "plt.plot(epochs, acc, 'bo', label='Training acc')\n",
        "plt.plot(epochs, val_acc, 'b', label='Validation acc')\n",
        "plt.title('Training and validation accuracy')\n",
        "plt.legend()\n",
        "\n",
        "plt.figure()\n",
        "\n",
        "plt.plot(epochs, loss, 'bo', label='Training loss')\n",
        "plt.plot(epochs, val_loss, 'b', label='Validation loss')\n",
        "plt.title('Training and validation loss')\n",
        "plt.legend()\n",
        "\n",
        "plt.show()"
      ],
      "execution_count": 5,
      "outputs": [
        {
          "output_type": "display_data",
          "data": {
            "image/png": "[encoded data removed]",
            "text/plain": [
              "<Figure size 432x288 with 1 Axes>"
            ]
          },
          "metadata": {
            "tags": [],
            "needs_background": "light"
          }
        },
        {
          "output_type": "display_data",
          "data": {
            "image/png": "[encoded data removed]",
            "text/plain": [
              "<Figure size 432x288 with 1 Axes>"
            ]
          },
          "metadata": {
            "tags": [],
            "needs_background": "light"
          }
        }
      ]
    },
    {
      "cell_type": "markdown",
      "metadata": {
        "id": "vSx84rlLKsiL"
      },
      "source": [
        "## Combining CNNs and RNNs to process long sequences\n",
        "\n",
        "\n",
        "Because 1D convnets process input patches independently, they are not sensitive to the order of the timesteps (beyond a local scale, the \n",
        "size of the convolution windows), unlike RNNs. Of course, in order to be able to recognize longer-term patterns, one could stack many \n",
        "convolution layers and pooling layers, resulting in upper layers that would \"see\" long chunks of the original inputs -- but that's still a \n",
        "fairly weak way to induce order-sensitivity. One way to evidence this weakness is to try 1D convnets on the temperature forecasting problem \n",
        "from the previous section, where order-sensitivity was key to produce good predictions. Let's see:"
      ]
    },
    {
      "cell_type": "code",
      "metadata": {
        "id": "R40IEqLrhW2F",
        "outputId": "ab702db2-53b2-4095-917e-07047eedd94f",
        "colab": {
          "base_uri": "https://localhost:8080/"
        }
      },
      "source": [
        "!gdown --id 1-sm1SThDT-PJQJA_egRpGSH-dOi7r6Tx"
      ],
      "execution_count": 3,
      "outputs": [
        {
          "output_type": "stream",
          "text": [
            "Downloading...\n",
            "From: https://drive.google.com/uc?id=1-sm1SThDT-PJQJA_egRpGSH-dOi7r6Tx\n",
            "To: /content/jena_climate_2009_2016.csv\n",
            "43.2MB [00:00, 83.8MB/s]\n"
          ],
          "name": "stdout"
        }
      ]
    },
    {
      "cell_type": "code",
      "metadata": {
        "id": "72sv0JigKsiM"
      },
      "source": [
        "# We reuse the following variables defined in the last section:\n",
        "# float_data, train_gen, val_gen, val_steps\n",
        "\n",
        "import os\n",
        "import numpy as np\n",
        "\n",
        "#data_dir = '/home/Data/'\n",
        "#fname = os.path.join(data_dir, 'jena_climate_2009_2016.csv')\n",
        "fname = \"jena_climate_2009_2016.csv\"\n",
        "f = open(fname)\n",
        "data = f.read()\n",
        "f.close()\n",
        "\n",
        "lines = data.split('\\n')\n",
        "header = lines[0].split(',')\n",
        "lines = lines[1:]\n",
        "\n",
        "float_data = np.zeros((len(lines), len(header) - 1))\n",
        "for i, line in enumerate(lines):\n",
        "    values = [float(x) for x in line.split(',')[1:]]\n",
        "    float_data[i, :] = values\n",
        "    \n",
        "mean = float_data[:200000].mean(axis=0)\n",
        "float_data -= mean\n",
        "std = float_data[:200000].std(axis=0)\n",
        "float_data /= std\n",
        "\n",
        "def generator(data, lookback, delay, min_index, max_index,\n",
        "              shuffle=False, batch_size=128, step=6):\n",
        "    if max_index is None:\n",
        "        max_index = len(data) - delay - 1\n",
        "    i = min_index + lookback\n",
        "    while 1:\n",
        "        if shuffle:\n",
        "            rows = np.random.randint(\n",
        "                min_index + lookback, max_index, size=batch_size)\n",
        "        else:\n",
        "            if i + batch_size >= max_index:\n",
        "                i = min_index + lookback\n",
        "            rows = np.arange(i, min(i + batch_size, max_index))\n",
        "            i += len(rows)\n",
        "\n",
        "        samples = np.zeros((len(rows),\n",
        "                           lookback // step,\n",
        "                           data.shape[-1]))\n",
        "        targets = np.zeros((len(rows),))\n",
        "        for j, row in enumerate(rows):\n",
        "            indices = range(rows[j] - lookback, rows[j], step)\n",
        "            samples[j] = data[indices]\n",
        "            targets[j] = data[rows[j] + delay][1]\n",
        "        yield samples, targets\n",
        "        \n",
        "lookback = 1440\n",
        "step = 6\n",
        "delay = 144\n",
        "batch_size = 128\n",
        "\n",
        "train_gen = generator(float_data,\n",
        "                      lookback=lookback,\n",
        "                      delay=delay,\n",
        "                      min_index=0,\n",
        "                      max_index=200000,\n",
        "                      shuffle=True,\n",
        "                      step=step, \n",
        "                      batch_size=batch_size)\n",
        "val_gen = generator(float_data,\n",
        "                    lookback=lookback,\n",
        "                    delay=delay,\n",
        "                    min_index=200001,\n",
        "                    max_index=300000,\n",
        "                    step=step,\n",
        "                    batch_size=batch_size)\n",
        "test_gen = generator(float_data,\n",
        "                     lookback=lookback,\n",
        "                     delay=delay,\n",
        "                     min_index=300001,\n",
        "                     max_index=None,\n",
        "                     step=step,\n",
        "                     batch_size=batch_size)\n",
        "\n",
        "# This is how many steps to draw from `val_gen`\n",
        "# in order to see the whole validation set:\n",
        "val_steps = (300000 - 200001 - lookback) // batch_size\n",
        "\n",
        "# This is how many steps to draw from `test_gen`\n",
        "# in order to see the whole test set:\n",
        "test_steps = (len(float_data) - 300001 - lookback) // batch_size"
      ],
      "execution_count": 4,
      "outputs": []
    },
    {
      "cell_type": "code",
      "metadata": {
        "id": "U05R7SmtKsiO",
        "outputId": "98379dab-9377-4f5f-d76f-b56e35eeb4e4",
        "colab": {
          "base_uri": "https://localhost:8080/"
        }
      },
      "source": [
        "from tensorflow.keras.models import Sequential\n",
        "from tensorflow.keras import layers\n",
        "from tensorflow.keras.optimizers import RMSprop\n",
        "\n",
        "model = Sequential()\n",
        "model.add(layers.Conv1D(32, 5, activation='relu',\n",
        "                        input_shape=(None, float_data.shape[-1])))\n",
        "model.add(layers.MaxPooling1D(3))\n",
        "model.add(layers.Conv1D(32, 5, activation='relu'))\n",
        "model.add(layers.MaxPooling1D(3))\n",
        "model.add(layers.Conv1D(32, 5, activation='relu'))\n",
        "model.add(layers.GlobalMaxPooling1D())\n",
        "model.add(layers.Dense(1))\n",
        "\n",
        "model.compile(optimizer=RMSprop(), loss='mae')\n",
        "history = model.fit_generator(train_gen,\n",
        "                              steps_per_epoch=500,\n",
        "                              epochs=20,\n",
        "                              validation_data=val_gen,\n",
        "                              validation_steps=val_steps)"
      ],
      "execution_count": 5,
      "outputs": [
        {
          "output_type": "stream",
          "text": [
            "/usr/local/lib/python3.7/dist-packages/tensorflow/python/keras/engine/training.py:1940: UserWarning: `Model.fit_generator` is deprecated and will be removed in a future version. Please use `Model.fit`, which supports generators.\n",
            "  warnings.warn('`Model.fit_generator` is deprecated and '\n"
          ],
          "name": "stderr"
        },
        {
          "output_type": "stream",
          "text": [
            "Epoch 1/20\n",
            "500/500 [==============================] - 43s 22ms/step - loss: 0.4200 - val_loss: 0.4562\n",
            "Epoch 2/20\n",
            "500/500 [==============================] - 11s 21ms/step - loss: 0.3602 - val_loss: 0.4374\n",
            "Epoch 3/20\n",
            "500/500 [==============================] - 11s 21ms/step - loss: 0.3336 - val_loss: 0.4402\n",
            "Epoch 4/20\n",
            "500/500 [==============================] - 11s 22ms/step - loss: 0.3143 - val_loss: 0.4691\n",
            "Epoch 5/20\n",
            "500/500 [==============================] - 11s 21ms/step - loss: 0.3015 - val_loss: 0.4456\n",
            "Epoch 6/20\n",
            "500/500 [==============================] - 11s 21ms/step - loss: 0.2909 - val_loss: 0.4656\n",
            "Epoch 7/20\n",
            "500/500 [==============================] - 10s 21ms/step - loss: 0.2821 - val_loss: 0.4503\n",
            "Epoch 8/20\n",
            "500/500 [==============================] - 11s 21ms/step - loss: 0.2753 - val_loss: 0.4501\n",
            "Epoch 9/20\n",
            "500/500 [==============================] - 13s 25ms/step - loss: 0.2716 - val_loss: 0.4576\n",
            "Epoch 10/20\n",
            "500/500 [==============================] - 11s 21ms/step - loss: 0.2672 - val_loss: 0.4725\n",
            "Epoch 11/20\n",
            "500/500 [==============================] - 11s 21ms/step - loss: 0.2596 - val_loss: 0.4563\n",
            "Epoch 12/20\n",
            "500/500 [==============================] - 11s 21ms/step - loss: 0.2590 - val_loss: 0.4532\n",
            "Epoch 13/20\n",
            "500/500 [==============================] - 11s 22ms/step - loss: 0.2543 - val_loss: 0.4722\n",
            "Epoch 14/20\n",
            "500/500 [==============================] - 11s 21ms/step - loss: 0.2522 - val_loss: 0.4567\n",
            "Epoch 15/20\n",
            "500/500 [==============================] - 11s 22ms/step - loss: 0.2461 - val_loss: 0.4629\n",
            "Epoch 16/20\n",
            "500/500 [==============================] - 11s 23ms/step - loss: 0.2460 - val_loss: 0.4782\n",
            "Epoch 17/20\n",
            "500/500 [==============================] - 12s 23ms/step - loss: 0.2434 - val_loss: 0.4756\n",
            "Epoch 18/20\n",
            "500/500 [==============================] - 12s 23ms/step - loss: 0.2411 - val_loss: 0.4598\n",
            "Epoch 19/20\n",
            "500/500 [==============================] - 11s 23ms/step - loss: 0.2379 - val_loss: 0.4670\n",
            "Epoch 20/20\n",
            "500/500 [==============================] - 11s 21ms/step - loss: 0.2372 - val_loss: 0.4689\n"
          ],
          "name": "stdout"
        }
      ]
    },
    {
      "cell_type": "markdown",
      "metadata": {
        "id": "qsxQN173KsiP"
      },
      "source": [
        "Here are our training and validation Mean Absolute Errors:"
      ]
    },
    {
      "cell_type": "code",
      "metadata": {
        "id": "OsAj-qrYKsiP",
        "outputId": "c3c18e16-f856-4635-88c3-fea7eb4e86d7",
        "colab": {
          "base_uri": "https://localhost:8080/",
          "height": 281
        }
      },
      "source": [
        "import matplotlib.pyplot as plt\n",
        "\n",
        "loss = history.history['loss']\n",
        "val_loss = history.history['val_loss']\n",
        "\n",
        "epochs = range(len(loss))\n",
        "\n",
        "plt.figure()\n",
        "\n",
        "plt.plot(epochs, loss, 'bo', label='Training loss')\n",
        "plt.plot(epochs, val_loss, 'b', label='Validation loss')\n",
        "plt.title('Training and validation loss')\n",
        "plt.legend()\n",
        "\n",
        "plt.show()"
      ],
      "execution_count": 6,
      "outputs": [
        {
          "output_type": "display_data",
          "data": {
            "image/png": "[encoded data removed]",
            "text/plain": [
              "<Figure size 432x288 with 1 Axes>"
            ]
          },
          "metadata": {
            "tags": [],
            "needs_background": "light"
          }
        }
      ]
    },
    {
      "cell_type": "markdown",
      "metadata": {
        "id": "Ff1vBa0LKsiT"
      },
      "source": [
        "\n",
        "The validation MAE stays in the low 0.40s: we cannot even beat our common-sense baseline using the small convnet. Again, this is because \n",
        "our convnet looks for patterns anywhere in the input timeseries, and has no knowledge of the temporal position of a pattern it sees (e.g. \n",
        "towards the beginning, towards the end, etc.). Since more recent datapoints should be interpreted differently from older datapoints in the \n",
        "case of this specific forecasting problem, the convnet fails at producing meaningful results here. This limitation of convnets was not an \n",
        "issue on IMDB, because patterns of keywords that are associated with a positive or a negative sentiment will be informative independently \n",
        "of where they are found in the input sentences.\n",
        "\n",
        "One strategy to combine the speed and lightness of convnets with the order-sensitivity of RNNs is to use a 1D convnet as a preprocessing \n",
        "step before a RNN. This is especially beneficial when dealing with sequences that are so long that they couldn't realistically be processed \n",
        "with RNNs, e.g. sequences with thousands of steps. The convnet will turn the long input sequence into much shorter (downsampled) sequences \n",
        "of higher-level features. This sequence of extracted features then becomes the input to the RNN part of the network."
      ]
    },
    {
      "cell_type": "markdown",
      "metadata": {
        "id": "o28as5a_KsiU"
      },
      "source": [
        "\n",
        "This technique is not seen very often in research papers and practical applications, possibly because it is not very well known. It is very \n",
        "effective and ought to be more common. Let's try this out on the temperature forecasting dataset. Because this strategy allows us to \n",
        "manipulate much longer sequences, we could either look at data from further back (by increasing the `lookback` parameter of the data \n",
        "generator), or look at high-resolution timeseries (by decreasing the `step` parameter of the generator). Here, we will chose (somewhat \n",
        "arbitrarily) to use a `step` twice smaller, resulting in twice longer timeseries, where the weather data is being sampled at a rate of one \n",
        "point per 30 minutes."
      ]
    },
    {
      "cell_type": "code",
      "metadata": {
        "id": "YBHGSErSKsiV"
      },
      "source": [
        "# This was previously set to 6 (one point per hour).\n",
        "# Now 3 (one point per 30 min).\n",
        "step = 3\n",
        "lookback = 720  # Unchanged\n",
        "delay = 144 # Unchanged\n",
        "\n",
        "train_gen = generator(float_data,\n",
        "                      lookback=lookback,\n",
        "                      delay=delay,\n",
        "                      min_index=0,\n",
        "                      max_index=200000,\n",
        "                      shuffle=True,\n",
        "                      step=step)\n",
        "val_gen = generator(float_data,\n",
        "                    lookback=lookback,\n",
        "                    delay=delay,\n",
        "                    min_index=200001,\n",
        "                    max_index=300000,\n",
        "                    step=step)\n",
        "test_gen = generator(float_data,\n",
        "                     lookback=lookback,\n",
        "                     delay=delay,\n",
        "                     min_index=300001,\n",
        "                     max_index=None,\n",
        "                     step=step)\n",
        "val_steps = (300000 - 200001 - lookback) // 128\n",
        "test_steps = (len(float_data) - 300001 - lookback) // 128"
      ],
      "execution_count": 7,
      "outputs": []
    },
    {
      "cell_type": "markdown",
      "metadata": {
        "id": "Xlo4w6FZKsiV"
      },
      "source": [
        "This is our model, starting with two `Conv1D` layers and following-up with a `GRU` layer:"
      ]
    },
    {
      "cell_type": "code",
      "metadata": {
        "id": "dr1Ww8GjKsiW",
        "outputId": "1b58ba1a-0a00-4def-e8ee-b825933beb44",
        "colab": {
          "base_uri": "https://localhost:8080/"
        }
      },
      "source": [
        "model = Sequential()\n",
        "model.add(layers.Conv1D(32, 5, activation='relu',\n",
        "                        input_shape=(None, float_data.shape[-1])))\n",
        "model.add(layers.MaxPooling1D(3))\n",
        "model.add(layers.Conv1D(32, 5, activation='relu'))\n",
        "#model.add(layers.GRU(32, dropout=0.1, recurrent_dropout=0.5))\n",
        "model.add(layers.GRU(32))\n",
        "model.add(layers.Dense(1))\n",
        "\n",
        "model.summary()\n",
        "\n",
        "model.compile(optimizer=RMSprop(), loss='mae')\n",
        "history = model.fit_generator(train_gen,\n",
        "                              steps_per_epoch=500,\n",
        "                              epochs=20,\n",
        "                              validation_data=val_gen,\n",
        "                              validation_steps=val_steps)"
      ],
      "execution_count": 8,
      "outputs": [
        {
          "output_type": "stream",
          "text": [
            "Model: \"sequential_2\"\n",
            "_________________________________________________________________\n",
            "Layer (type)                 Output Shape              Param #   \n",
            "=================================================================\n",
            "conv1d_3 (Conv1D)            (None, None, 32)          2272      \n",
            "_________________________________________________________________\n",
            "max_pooling1d_2 (MaxPooling1 (None, None, 32)          0         \n",
            "_________________________________________________________________\n",
            "conv1d_4 (Conv1D)            (None, None, 32)          5152      \n",
            "_________________________________________________________________\n",
            "gru (GRU)                    (None, 32)                6336      \n",
            "_________________________________________________________________\n",
            "dense_1 (Dense)              (None, 1)                 33        \n",
            "=================================================================\n",
            "Total params: 13,793\n",
            "Trainable params: 13,793\n",
            "Non-trainable params: 0\n",
            "_________________________________________________________________\n",
            "Epoch 1/20\n"
          ],
          "name": "stdout"
        },
        {
          "output_type": "stream",
          "text": [
            "/usr/local/lib/python3.7/dist-packages/tensorflow/python/keras/engine/training.py:1940: UserWarning: `Model.fit_generator` is deprecated and will be removed in a future version. Please use `Model.fit`, which supports generators.\n",
            "  warnings.warn('`Model.fit_generator` is deprecated and '\n"
          ],
          "name": "stderr"
        },
        {
          "output_type": "stream",
          "text": [
            "500/500 [==============================] - 15s 24ms/step - loss: 0.3163 - val_loss: 0.2897\n",
            "Epoch 2/20\n",
            "500/500 [==============================] - 12s 24ms/step - loss: 0.2870 - val_loss: 0.2756\n",
            "Epoch 3/20\n",
            "500/500 [==============================] - 12s 24ms/step - loss: 0.2740 - val_loss: 0.2861\n",
            "Epoch 4/20\n",
            "500/500 [==============================] - 12s 24ms/step - loss: 0.2639 - val_loss: 0.2873\n",
            "Epoch 5/20\n",
            "500/500 [==============================] - 12s 24ms/step - loss: 0.2531 - val_loss: 0.2913\n",
            "Epoch 6/20\n",
            "500/500 [==============================] - 12s 24ms/step - loss: 0.2398 - val_loss: 0.2955\n",
            "Epoch 7/20\n",
            "500/500 [==============================] - 12s 24ms/step - loss: 0.2296 - val_loss: 0.2931\n",
            "Epoch 8/20\n",
            "500/500 [==============================] - 12s 24ms/step - loss: 0.2179 - val_loss: 0.3026\n",
            "Epoch 9/20\n",
            "500/500 [==============================] - 12s 24ms/step - loss: 0.2069 - val_loss: 0.3078\n",
            "Epoch 10/20\n",
            "500/500 [==============================] - 12s 24ms/step - loss: 0.1989 - val_loss: 0.3168\n",
            "Epoch 11/20\n",
            "500/500 [==============================] - 12s 24ms/step - loss: 0.1906 - val_loss: 0.3177\n",
            "Epoch 12/20\n",
            "500/500 [==============================] - 12s 24ms/step - loss: 0.1846 - val_loss: 0.3282\n",
            "Epoch 13/20\n",
            "500/500 [==============================] - 12s 24ms/step - loss: 0.1775 - val_loss: 0.3238\n",
            "Epoch 14/20\n",
            "500/500 [==============================] - 12s 24ms/step - loss: 0.1723 - val_loss: 0.3288\n",
            "Epoch 15/20\n",
            "500/500 [==============================] - 12s 24ms/step - loss: 0.1675 - val_loss: 0.3399\n",
            "Epoch 16/20\n",
            "500/500 [==============================] - 12s 24ms/step - loss: 0.1625 - val_loss: 0.3357\n",
            "Epoch 17/20\n",
            "500/500 [==============================] - 12s 24ms/step - loss: 0.1594 - val_loss: 0.3387\n",
            "Epoch 18/20\n",
            "500/500 [==============================] - 12s 24ms/step - loss: 0.1546 - val_loss: 0.3460\n",
            "Epoch 19/20\n",
            "500/500 [==============================] - 12s 24ms/step - loss: 0.1511 - val_loss: 0.3417\n",
            "Epoch 20/20\n",
            "500/500 [==============================] - 12s 24ms/step - loss: 0.1472 - val_loss: 0.3374\n"
          ],
          "name": "stdout"
        }
      ]
    },
    {
      "cell_type": "code",
      "metadata": {
        "id": "wBZ4cqAMKsiW",
        "outputId": "66b7ff48-b152-4207-a698-b92144509555",
        "colab": {
          "base_uri": "https://localhost:8080/",
          "height": 281
        }
      },
      "source": [
        "loss = history.history['loss']\n",
        "val_loss = history.history['val_loss']\n",
        "\n",
        "epochs = range(len(loss))\n",
        "\n",
        "plt.figure()\n",
        "\n",
        "plt.plot(epochs, loss, 'bo', label='Training loss')\n",
        "plt.plot(epochs, val_loss, 'b', label='Validation loss')\n",
        "plt.title('Training and validation loss')\n",
        "plt.legend()\n",
        "\n",
        "plt.show()"
      ],
      "execution_count": 9,
      "outputs": [
        {
          "output_type": "display_data",
          "data": {
            "image/png": "[encoded data removed]",
            "text/plain": [
              "<Figure size 432x288 with 1 Axes>"
            ]
          },
          "metadata": {
            "tags": [],
            "needs_background": "light"
          }
        }
      ]
    },
    {
      "cell_type": "markdown",
      "metadata": {
        "id": "OXkLiiSdKsiX"
      },
      "source": [
        "Judging from the validation loss, this setup is not quite as good as the regularized GRU alone, but it's significantly faster. It is \n",
        "looking at twice more data, which in this case doesn't appear to be hugely helpful, but may be important for other datasets."
      ]
    },
    {
      "cell_type": "markdown",
      "metadata": {
        "id": "omM2ZNoiKsiY"
      },
      "source": [
        "## Wrapping up\n",
        "\n",
        "Here's what you should take away from this section:\n",
        "\n",
        "* In the same way that 2D convnets perform well for processing visual patterns in 2D space, 1D convnets perform well for processing \n",
        "temporal patterns. They offer a faster alternative to RNNs on some problems, in particular NLP tasks.\n",
        "* Typically 1D convnets are structured much like their 2D equivalents from the world of computer vision: they consist of stacks of `Conv1D` \n",
        "layers and `MaxPooling1D` layers, eventually ending in a global pooling operation or flattening operation.\n",
        "* Because RNNs are extremely expensive for processing very long sequences, but 1D convnets are cheap, it can be a good idea to use a 1D \n",
        "convnet as a preprocessing step before a RNN, shortening the sequence and extracting useful representations for the RNN to process.\n",
        "\n",
        "One useful and important concept that we will not cover in these pages is that of 1D convolution with dilated kernels."
      ]
    }
  ]
}