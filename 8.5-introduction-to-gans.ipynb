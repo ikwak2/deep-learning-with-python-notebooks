{
  "nbformat": 4,
  "nbformat_minor": 0,
  "metadata": {
    "kernelspec": {
      "display_name": "Python 3",
      "language": "python",
      "name": "python3"
    },
    "language_info": {
      "codemirror_mode": {
        "name": "ipython",
        "version": 3
      },
      "file_extension": ".py",
      "mimetype": "text/x-python",
      "name": "python",
      "nbconvert_exporter": "python",
      "pygments_lexer": "ipython3",
      "version": "3.5.2"
    },
    "colab": {
      "name": "8.5-introduction-to-gans.ipynb",
      "provenance": [],
      "include_colab_link": true
    },
    "accelerator": "GPU"
  },
  "cells": [
    {
      "cell_type": "markdown",
      "metadata": {
        "id": "view-in-github",
        "colab_type": "text"
      },
      "source": [
        "<a href=\"https://colab.research.google.com/github/ikwak2/deep-learning-with-python-notebooks/blob/master/8.5-introduction-to-gans.ipynb\" target=\"_parent\"><img src=\"https://colab.research.google.com/assets/colab-badge.svg\" alt=\"Open In Colab\"/></a>"
      ]
    },
    {
      "cell_type": "code",
      "metadata": {
        "id": "fSdo8cbzUU8G",
        "outputId": "509e7b5d-73ee-497b-df59-b12cf571a790",
        "colab": {
          "base_uri": "https://localhost:8080/",
          "height": 35
        }
      },
      "source": [
        "import tensorflow.keras\n",
        "tensorflow.keras.__version__"
      ],
      "execution_count": 1,
      "outputs": [
        {
          "output_type": "execute_result",
          "data": {
            "application/vnd.google.colaboratory.intrinsic+json": {
              "type": "string"
            },
            "text/plain": [
              "'2.5.0'"
            ]
          },
          "metadata": {
            "tags": []
          },
          "execution_count": 1
        }
      ]
    },
    {
      "cell_type": "markdown",
      "metadata": {
        "id": "K-Br6sBTUU8I"
      },
      "source": [
        "# Introduction to generative adversarial networks\n",
        "\n",
        "This notebook contains the second code sample found in Chapter 8, Section 5 of [Deep Learning with Python](https://www.manning.com/books/deep-learning-with-python?a_aid=keras&a_bid=76564dff). Note that the original text features far more content, in particular further explanations and figures: in this notebook, you will only find source code and related comments.\n",
        "\n",
        "---\n",
        "[...]"
      ]
    },
    {
      "cell_type": "markdown",
      "metadata": {
        "id": "Wtuf8nIxUU8J"
      },
      "source": [
        "## A schematic GAN implementation\n",
        "\n",
        "\n",
        "In what follows, we explain how to implement a GAN in Keras, in its barest form -- since GANs are quite advanced, diving deeply into the \n",
        "technical details would be out of scope for us. Our specific implementation will be a deep convolutional GAN, or DCGAN: a GAN where the \n",
        "generator and discriminator are deep convnets. In particular, it leverages a `Conv2DTranspose` layer for image upsampling in the generator.\n",
        "\n",
        "We will train our GAN on images from CIFAR10, a dataset of 50,000 32x32 RGB images belong to 10 classes (5,000 images per class). To make \n",
        "things even easier, we will only use images belonging to the class \"frog\".\n",
        "\n",
        "Schematically, our GAN looks like this:\n",
        "\n",
        "* A `generator` network maps vectors of shape `(latent_dim,)` to images of shape `(32, 32, 3)`.\n",
        "* A `discriminator` network maps images of shape (32, 32, 3) to a binary score estimating the probability that the image is real.\n",
        "* A `gan` network chains the generator and the discriminator together: `gan(x) = discriminator(generator(x))`. Thus this `gan` network maps \n",
        "latent space vectors to the discriminator's assessment of the realism of these latent vectors as decoded by the generator.\n",
        "* We train the discriminator using examples of real and fake images along with \"real\"/\"fake\" labels, as we would train any regular image \n",
        "classification model.\n",
        "* To train the generator, we use the gradients of the generator's weights with regard to the loss of the `gan` model. This means that, at \n",
        "every step, we move the weights of the generator in a direction that will make the discriminator more likely to classify as \"real\" the \n",
        "images decoded by the generator. I.e. we train the generator to fool the discriminator."
      ]
    },
    {
      "cell_type": "markdown",
      "metadata": {
        "id": "AF85FWAGUU8L"
      },
      "source": [
        "## A bag of tricks\n",
        "\n",
        "\n",
        "Training GANs and tuning GAN implementations is notoriously difficult. There are a number of known \"tricks\" that one should keep in mind. \n",
        "Like most things in deep learning, it is more alchemy than science: these tricks are really just heuristics, not theory-backed guidelines. \n",
        "They are backed by some level of intuitive understanding of the phenomenon at hand, and they are known to work well empirically, albeit not \n",
        "necessarily in every context.\n",
        "\n",
        "Here are a few of the tricks that we leverage in our own implementation of a GAN generator and discriminator below. It is not an exhaustive \n",
        "list of GAN-related tricks; you will find many more across the GAN literature.\n",
        "\n",
        "* We use `tanh` as the last activation in the generator, instead of `sigmoid`, which would be more commonly found in other types of models.\n",
        "* We sample points from the latent space using a _normal distribution_ (Gaussian distribution), not a uniform distribution.\n",
        "* Stochasticity is good to induce robustness. Since GAN training results in a dynamic equilibrium, GANs are likely to get \"stuck\" in all sorts of ways. \n",
        "Introducing randomness during training helps prevent this. We introduce randomness in two ways: 1) we use dropout in the discriminator, 2) \n",
        "we add some random noise to the labels for the discriminator.\n",
        "* Sparse gradients can hinder GAN training. In deep learning, sparsity is often a desirable property, but not in GANs. There are two things \n",
        "that can induce gradient sparsity: 1) max pooling operations, 2) ReLU activations. Instead of max pooling, we recommend using strided \n",
        "convolutions for downsampling, and we recommend using a `LeakyReLU` layer instead of a ReLU activation. It is similar to ReLU but it \n",
        "relaxes sparsity constraints by allowing small negative activation values.\n",
        "* In generated images, it is common to see \"checkerboard artifacts\" caused by unequal coverage of the pixel space in the generator. To fix \n",
        "this, we use a kernel size that is divisible by the stride size, whenever we use a strided `Conv2DTranpose` or `Conv2D` in both the \n",
        "generator and discriminator."
      ]
    },
    {
      "cell_type": "markdown",
      "metadata": {
        "id": "zaSD2AuYUU8N"
      },
      "source": [
        "## The generator\n",
        "\n",
        "\n",
        "First, we develop a `generator` model, which turns a vector (from the latent space -- during training it will sampled at random) into a \n",
        "candidate image. One of the many issues that commonly arise with GANs is that the generator gets stuck with generated images that look like \n",
        "noise. A possible solution is to use dropout on both the discriminator and generator."
      ]
    },
    {
      "cell_type": "code",
      "metadata": {
        "id": "fgzYD_WMUU8O",
        "outputId": "02d32ebe-ace5-4ded-f87b-bad5aca73858",
        "colab": {
          "base_uri": "https://localhost:8080/"
        }
      },
      "source": [
        "import keras\n",
        "from keras import layers\n",
        "import numpy as np\n",
        "\n",
        "latent_dim = 32\n",
        "height = 32\n",
        "width = 32\n",
        "channels = 3\n",
        "\n",
        "generator_input = keras.Input(shape=(latent_dim,))\n",
        "\n",
        "# First, transform the input into a 16x16 128-channels feature map\n",
        "x = layers.Dense(128 * 16 * 16)(generator_input)\n",
        "x = layers.LeakyReLU()(x)\n",
        "x = layers.Reshape((16, 16, 128))(x)\n",
        "\n",
        "# Then, add a convolution layer\n",
        "x = layers.Conv2D(256, 5, padding='same')(x)\n",
        "x = layers.LeakyReLU()(x)\n",
        "\n",
        "# Upsample to 32x32\n",
        "x = layers.Conv2DTranspose(256, 4, strides=2, padding='same')(x)\n",
        "x = layers.LeakyReLU()(x)\n",
        "\n",
        "# Few more conv layers\n",
        "x = layers.Conv2D(256, 5, padding='same')(x)\n",
        "x = layers.LeakyReLU()(x)\n",
        "x = layers.Conv2D(256, 5, padding='same')(x)\n",
        "x = layers.LeakyReLU()(x)\n",
        "\n",
        "# Produce a 32x32 1-channel feature map\n",
        "x = layers.Conv2D(channels, 7, activation='tanh', padding='same')(x)\n",
        "generator = keras.models.Model(generator_input, x)\n",
        "generator.summary()"
      ],
      "execution_count": 2,
      "outputs": [
        {
          "output_type": "stream",
          "text": [
            "Model: \"model\"\n",
            "_________________________________________________________________\n",
            "Layer (type)                 Output Shape              Param #   \n",
            "=================================================================\n",
            "input_1 (InputLayer)         [(None, 32)]              0         \n",
            "_________________________________________________________________\n",
            "dense (Dense)                (None, 32768)             1081344   \n",
            "_________________________________________________________________\n",
            "leaky_re_lu (LeakyReLU)      (None, 32768)             0         \n",
            "_________________________________________________________________\n",
            "reshape (Reshape)            (None, 16, 16, 128)       0         \n",
            "_________________________________________________________________\n",
            "conv2d (Conv2D)              (None, 16, 16, 256)       819456    \n",
            "_________________________________________________________________\n",
            "leaky_re_lu_1 (LeakyReLU)    (None, 16, 16, 256)       0         \n",
            "_________________________________________________________________\n",
            "conv2d_transpose (Conv2DTran (None, 32, 32, 256)       1048832   \n",
            "_________________________________________________________________\n",
            "leaky_re_lu_2 (LeakyReLU)    (None, 32, 32, 256)       0         \n",
            "_________________________________________________________________\n",
            "conv2d_1 (Conv2D)            (None, 32, 32, 256)       1638656   \n",
            "_________________________________________________________________\n",
            "leaky_re_lu_3 (LeakyReLU)    (None, 32, 32, 256)       0         \n",
            "_________________________________________________________________\n",
            "conv2d_2 (Conv2D)            (None, 32, 32, 256)       1638656   \n",
            "_________________________________________________________________\n",
            "leaky_re_lu_4 (LeakyReLU)    (None, 32, 32, 256)       0         \n",
            "_________________________________________________________________\n",
            "conv2d_3 (Conv2D)            (None, 32, 32, 3)         37635     \n",
            "=================================================================\n",
            "Total params: 6,264,579\n",
            "Trainable params: 6,264,579\n",
            "Non-trainable params: 0\n",
            "_________________________________________________________________\n"
          ],
          "name": "stdout"
        }
      ]
    },
    {
      "cell_type": "markdown",
      "metadata": {
        "id": "ER887uNjUU8P"
      },
      "source": [
        "## The discriminator\n",
        "\n",
        "\n",
        "Then, we develop a `discriminator` model, that takes as input a candidate image (real or synthetic) and classifies it into one of two \n",
        "classes, either \"generated image\" or \"real image that comes from the training set\"."
      ]
    },
    {
      "cell_type": "code",
      "metadata": {
        "id": "fDNJEL3iUU8Q",
        "outputId": "4ba32c52-c951-4e03-d1c5-d8e3e43e8b8e",
        "colab": {
          "base_uri": "https://localhost:8080/"
        }
      },
      "source": [
        "discriminator_input = layers.Input(shape=(height, width, channels))\n",
        "x = layers.Conv2D(128, 3)(discriminator_input)\n",
        "x = layers.LeakyReLU()(x)\n",
        "x = layers.Conv2D(128, 4, strides=2)(x)\n",
        "x = layers.LeakyReLU()(x)\n",
        "x = layers.Conv2D(128, 4, strides=2)(x)\n",
        "x = layers.LeakyReLU()(x)\n",
        "x = layers.Conv2D(128, 4, strides=2)(x)\n",
        "x = layers.LeakyReLU()(x)\n",
        "x = layers.Flatten()(x)\n",
        "\n",
        "# One dropout layer - important trick!\n",
        "x = layers.Dropout(0.4)(x)\n",
        "\n",
        "# Classification layer\n",
        "x = layers.Dense(1, activation='sigmoid')(x)\n",
        "\n",
        "discriminator = keras.models.Model(discriminator_input, x)\n",
        "discriminator.summary()\n",
        "\n",
        "# To stabilize training, we use learning rate decay\n",
        "# and gradient clipping (by value) in the optimizer.\n",
        "discriminator_optimizer = keras.optimizers.RMSprop(lr=0.0008, clipvalue=1.0, decay=1e-8)\n",
        "discriminator.compile(optimizer=discriminator_optimizer, loss='binary_crossentropy')"
      ],
      "execution_count": 3,
      "outputs": [
        {
          "output_type": "stream",
          "text": [
            "Model: \"model_1\"\n",
            "_________________________________________________________________\n",
            "Layer (type)                 Output Shape              Param #   \n",
            "=================================================================\n",
            "input_2 (InputLayer)         [(None, 32, 32, 3)]       0         \n",
            "_________________________________________________________________\n",
            "conv2d_4 (Conv2D)            (None, 30, 30, 128)       3584      \n",
            "_________________________________________________________________\n",
            "leaky_re_lu_5 (LeakyReLU)    (None, 30, 30, 128)       0         \n",
            "_________________________________________________________________\n",
            "conv2d_5 (Conv2D)            (None, 14, 14, 128)       262272    \n",
            "_________________________________________________________________\n",
            "leaky_re_lu_6 (LeakyReLU)    (None, 14, 14, 128)       0         \n",
            "_________________________________________________________________\n",
            "conv2d_6 (Conv2D)            (None, 6, 6, 128)         262272    \n",
            "_________________________________________________________________\n",
            "leaky_re_lu_7 (LeakyReLU)    (None, 6, 6, 128)         0         \n",
            "_________________________________________________________________\n",
            "conv2d_7 (Conv2D)            (None, 2, 2, 128)         262272    \n",
            "_________________________________________________________________\n",
            "leaky_re_lu_8 (LeakyReLU)    (None, 2, 2, 128)         0         \n",
            "_________________________________________________________________\n",
            "flatten (Flatten)            (None, 512)               0         \n",
            "_________________________________________________________________\n",
            "dropout (Dropout)            (None, 512)               0         \n",
            "_________________________________________________________________\n",
            "dense_1 (Dense)              (None, 1)                 513       \n",
            "=================================================================\n",
            "Total params: 790,913\n",
            "Trainable params: 790,913\n",
            "Non-trainable params: 0\n",
            "_________________________________________________________________\n"
          ],
          "name": "stdout"
        },
        {
          "output_type": "stream",
          "text": [
            "/usr/local/lib/python3.7/dist-packages/tensorflow/python/keras/optimizer_v2/optimizer_v2.py:375: UserWarning: The `lr` argument is deprecated, use `learning_rate` instead.\n",
            "  \"The `lr` argument is deprecated, use `learning_rate` instead.\")\n"
          ],
          "name": "stderr"
        }
      ]
    },
    {
      "cell_type": "markdown",
      "metadata": {
        "id": "hC0Ms17LUU8R"
      },
      "source": [
        "## The adversarial network\n",
        "\n",
        "Finally, we setup the GAN, which chains the generator and the discriminator. This is the model that, when trained, will move the generator \n",
        "in a direction that improves its ability to fool the discriminator. This model turns latent space points into a classification decision, \n",
        "\"fake\" or \"real\", and it is meant to be trained with labels that are always \"these are real images\". So training `gan` will updates the \n",
        "weights of `generator` in a way that makes `discriminator` more likely to predict \"real\" when looking at fake images. Very importantly, we \n",
        "set the discriminator to be frozen during training (non-trainable): its weights will not be updated when training `gan`. If the \n",
        "discriminator weights could be updated during this process, then we would be training the discriminator to always predict \"real\", which is \n",
        "not what we want!"
      ]
    },
    {
      "cell_type": "code",
      "metadata": {
        "collapsed": true,
        "id": "_vv_tkjiUU8S",
        "outputId": "cb648559-d243-495f-e949-cad4e682ecc3",
        "colab": {
          "base_uri": "https://localhost:8080/"
        }
      },
      "source": [
        "# Set discriminator weights to non-trainable\n",
        "# (will only apply to the `gan` model)\n",
        "discriminator.trainable = False\n",
        "\n",
        "gan_input = keras.Input(shape=(latent_dim,))\n",
        "gan_output = discriminator(generator(gan_input))\n",
        "gan = keras.models.Model(gan_input, gan_output)\n",
        "\n",
        "gan_optimizer = keras.optimizers.RMSprop(lr=0.0004, clipvalue=1.0, decay=1e-8)\n",
        "gan.compile(optimizer=gan_optimizer, loss='binary_crossentropy')"
      ],
      "execution_count": 4,
      "outputs": [
        {
          "output_type": "stream",
          "text": [
            "/usr/local/lib/python3.7/dist-packages/tensorflow/python/keras/optimizer_v2/optimizer_v2.py:375: UserWarning: The `lr` argument is deprecated, use `learning_rate` instead.\n",
            "  \"The `lr` argument is deprecated, use `learning_rate` instead.\")\n"
          ],
          "name": "stderr"
        }
      ]
    },
    {
      "cell_type": "markdown",
      "metadata": {
        "id": "zG29zL_vUU8S"
      },
      "source": [
        "## How to train your DCGAN\n",
        "\n",
        "Now we can start training. To recapitulate, this is schematically what the training loop looks like:\n",
        "\n",
        "```\n",
        "for each epoch:\n",
        "    * Draw random points in the latent space (random noise).\n",
        "    * Generate images with `generator` using this random noise.\n",
        "    * Mix the generated images with real ones.\n",
        "    * Train `discriminator` using these mixed images, with corresponding targets, either \"real\" (for the real images) or \"fake\" (for the generated images).\n",
        "    * Draw new random points in the latent space.\n",
        "    * Train `gan` using these random vectors, with targets that all say \"these are real images\". This will update the weights of the generator (only, since discriminator is frozen inside `gan`) to move them towards getting the discriminator to predict \"these are real images\" for generated images, i.e. this trains the generator to fool the discriminator.\n",
        "```\n",
        "\n",
        "Let's implement it:"
      ]
    },
    {
      "cell_type": "code",
      "metadata": {
        "id": "siv5bDHTUU8S",
        "outputId": "c8a98e25-e3f7-4e0b-ab5f-fb3d024c3fe0",
        "colab": {
          "base_uri": "https://localhost:8080/"
        }
      },
      "source": [
        "import os\n",
        "from tensorflow.keras.preprocessing import image\n",
        "import tensorflow\n",
        "\n",
        "# Load CIFAR10 data\n",
        "(x_train, y_train), (_, _) = tensorflow.keras.datasets.cifar10.load_data()\n",
        "\n",
        "# Select frog images (class 6)\n",
        "x_train = x_train[y_train.flatten() == 6]\n",
        "\n",
        "# Normalize data\n",
        "x_train = x_train.reshape(\n",
        "    (x_train.shape[0],) + (height, width, channels)).astype('float32') / 255.\n",
        "\n",
        "iterations = 10000\n",
        "batch_size = 20\n",
        "save_dir = '/'\n",
        "\n",
        "# Start training loop\n",
        "start = 0\n",
        "for step in range(iterations):\n",
        "    # Sample random points in the latent space\n",
        "    random_latent_vectors = np.random.normal(size=(batch_size, latent_dim))\n",
        "\n",
        "    # Decode them to fake images\n",
        "    generated_images = generator.predict(random_latent_vectors)\n",
        "\n",
        "    # Combine them with real images\n",
        "    stop = start + batch_size\n",
        "    real_images = x_train[start: stop]\n",
        "    combined_images = np.concatenate([generated_images, real_images])\n",
        "\n",
        "    # Assemble labels discriminating real from fake images\n",
        "    labels = np.concatenate([np.ones((batch_size, 1)),\n",
        "                             np.zeros((batch_size, 1))])\n",
        "    # Add random noise to the labels - important trick!\n",
        "    labels += 0.05 * np.random.random(labels.shape)\n",
        "\n",
        "    # Train the discriminator\n",
        "    d_loss = discriminator.train_on_batch(combined_images, labels)\n",
        "\n",
        "    # sample random points in the latent space\n",
        "    random_latent_vectors = np.random.normal(size=(batch_size, latent_dim))\n",
        "\n",
        "    # Assemble labels that say \"all real images\"\n",
        "    misleading_targets = np.zeros((batch_size, 1))\n",
        "\n",
        "    # Train the generator (via the gan model,\n",
        "    # where the discriminator weights are frozen)\n",
        "    a_loss = gan.train_on_batch(random_latent_vectors, misleading_targets)\n",
        "    \n",
        "    start += batch_size\n",
        "    if start > len(x_train) - batch_size:\n",
        "      start = 0\n",
        "\n",
        "    # Occasionally save / plot\n",
        "    if step % 100 == 0:\n",
        "        # Save model weights\n",
        "        gan.save_weights('gan.h5')\n",
        "\n",
        "        # Print metrics\n",
        "        print('discriminator loss at step %s: %s' % (step, d_loss))\n",
        "        print('adversarial loss at step %s: %s' % (step, a_loss))\n",
        "\n",
        "        # Save one generated image\n",
        "        img = image.array_to_img(generated_images[0] * 255., scale=False)\n",
        "        img.save(os.path.join(save_dir, 'generated_frog' + str(step) + '.png'))\n",
        "\n",
        "        # Save one real image, for comparison\n",
        "        img = image.array_to_img(real_images[0] * 255., scale=False)\n",
        "        img.save(os.path.join(save_dir, 'real_frog' + str(step) + '.png'))"
      ],
      "execution_count": 9,
      "outputs": [
        {
          "output_type": "stream",
          "text": [
            "discriminator loss at step 0: 6.999344825744629\n",
            "adversarial loss at step 0: 13.052658081054688\n",
            "discriminator loss at step 100: 0.6860991716384888\n",
            "adversarial loss at step 100: 0.7275800704956055\n",
            "discriminator loss at step 200: 0.6863574981689453\n",
            "adversarial loss at step 200: 0.7550541758537292\n",
            "discriminator loss at step 300: 0.6945416331291199\n",
            "adversarial loss at step 300: 0.7496591806411743\n",
            "discriminator loss at step 400: 0.700607180595398\n",
            "adversarial loss at step 400: 0.751114547252655\n",
            "discriminator loss at step 500: 0.6942406296730042\n",
            "adversarial loss at step 500: 0.7420123815536499\n",
            "discriminator loss at step 600: 0.6907957792282104\n",
            "adversarial loss at step 600: 0.7682593464851379\n",
            "discriminator loss at step 700: 0.6928814053535461\n",
            "adversarial loss at step 700: 0.9355341792106628\n",
            "discriminator loss at step 800: 0.6918044090270996\n",
            "adversarial loss at step 800: 0.7954901456832886\n",
            "discriminator loss at step 900: 0.6966551542282104\n",
            "adversarial loss at step 900: 0.7565080523490906\n",
            "discriminator loss at step 1000: 0.6891816258430481\n",
            "adversarial loss at step 1000: 0.9408552050590515\n",
            "discriminator loss at step 1100: 0.6950154304504395\n",
            "adversarial loss at step 1100: 0.7583489418029785\n",
            "discriminator loss at step 1200: 0.6772334575653076\n",
            "adversarial loss at step 1200: 0.7679704427719116\n",
            "discriminator loss at step 1300: 0.6939572691917419\n",
            "adversarial loss at step 1300: 0.7442882657051086\n",
            "discriminator loss at step 1400: 0.6939876675605774\n",
            "adversarial loss at step 1400: 0.7410951852798462\n",
            "discriminator loss at step 1500: 0.6957035660743713\n",
            "adversarial loss at step 1500: 0.7181122303009033\n",
            "discriminator loss at step 1600: 0.7082899808883667\n",
            "adversarial loss at step 1600: 0.679564356803894\n",
            "discriminator loss at step 1700: 0.7077356576919556\n",
            "adversarial loss at step 1700: 0.7711347341537476\n",
            "discriminator loss at step 1800: 0.6979376077651978\n",
            "adversarial loss at step 1800: 0.7580405473709106\n",
            "discriminator loss at step 1900: 0.6943522095680237\n",
            "adversarial loss at step 1900: 0.7974619269371033\n",
            "discriminator loss at step 2000: 0.7014322280883789\n",
            "adversarial loss at step 2000: 0.749390721321106\n",
            "discriminator loss at step 2100: 0.6900498867034912\n",
            "adversarial loss at step 2100: 0.765426516532898\n",
            "discriminator loss at step 2200: 0.6847567558288574\n",
            "adversarial loss at step 2200: 0.7666041851043701\n",
            "discriminator loss at step 2300: 0.7347233891487122\n",
            "adversarial loss at step 2300: 0.7196332812309265\n",
            "discriminator loss at step 2400: 0.6913362145423889\n",
            "adversarial loss at step 2400: 0.7416853904724121\n",
            "discriminator loss at step 2500: 0.7010339498519897\n",
            "adversarial loss at step 2500: 0.7252472043037415\n",
            "discriminator loss at step 2600: 0.6858972311019897\n",
            "adversarial loss at step 2600: 0.7030285000801086\n",
            "discriminator loss at step 2700: 0.676067590713501\n",
            "adversarial loss at step 2700: 0.7364743947982788\n",
            "discriminator loss at step 2800: 0.6999536752700806\n",
            "adversarial loss at step 2800: 0.8028301000595093\n",
            "discriminator loss at step 2900: 0.6924185752868652\n",
            "adversarial loss at step 2900: 0.8483152389526367\n",
            "discriminator loss at step 3000: 0.6841340065002441\n",
            "adversarial loss at step 3000: 0.8842856287956238\n",
            "discriminator loss at step 3100: 0.6821303367614746\n",
            "adversarial loss at step 3100: 0.719444215297699\n",
            "discriminator loss at step 3200: 0.7136035561561584\n",
            "adversarial loss at step 3200: 0.7715280652046204\n",
            "discriminator loss at step 3300: 0.7029546499252319\n",
            "adversarial loss at step 3300: 0.715842604637146\n",
            "discriminator loss at step 3400: 0.6913245320320129\n",
            "adversarial loss at step 3400: 1.1161664724349976\n",
            "discriminator loss at step 3500: 0.6839425563812256\n",
            "adversarial loss at step 3500: 0.756301999092102\n",
            "discriminator loss at step 3600: 0.6986807584762573\n",
            "adversarial loss at step 3600: 0.7895880937576294\n",
            "discriminator loss at step 3700: 0.692947506904602\n",
            "adversarial loss at step 3700: 0.7965474128723145\n",
            "discriminator loss at step 3800: 0.6956135034561157\n",
            "adversarial loss at step 3800: 0.7360718846321106\n",
            "discriminator loss at step 3900: 0.6901575326919556\n",
            "adversarial loss at step 3900: 0.7573983669281006\n",
            "discriminator loss at step 4000: 0.6931684613227844\n",
            "adversarial loss at step 4000: 0.7619826197624207\n",
            "discriminator loss at step 4100: 0.694464385509491\n",
            "adversarial loss at step 4100: 0.7123953104019165\n",
            "discriminator loss at step 4200: 0.727469265460968\n",
            "adversarial loss at step 4200: 0.7465158700942993\n",
            "discriminator loss at step 4300: 0.6846082806587219\n",
            "adversarial loss at step 4300: 0.7538204789161682\n",
            "discriminator loss at step 4400: 0.6843164563179016\n",
            "adversarial loss at step 4400: 0.7115124464035034\n",
            "discriminator loss at step 4500: 0.6936434507369995\n",
            "adversarial loss at step 4500: 0.7563550472259521\n",
            "discriminator loss at step 4600: 0.6947843432426453\n",
            "adversarial loss at step 4600: 0.7323817610740662\n",
            "discriminator loss at step 4700: 0.7071908712387085\n",
            "adversarial loss at step 4700: 0.8506726026535034\n",
            "discriminator loss at step 4800: 0.6937630772590637\n",
            "adversarial loss at step 4800: 0.7517768144607544\n",
            "discriminator loss at step 4900: 0.6968572735786438\n",
            "adversarial loss at step 4900: 0.7113389372825623\n",
            "discriminator loss at step 5000: 0.7073362469673157\n",
            "adversarial loss at step 5000: 0.7393900156021118\n",
            "discriminator loss at step 5100: 0.6904556155204773\n",
            "adversarial loss at step 5100: 0.7131439447402954\n",
            "discriminator loss at step 5200: 0.6741143465042114\n",
            "adversarial loss at step 5200: 0.7883696556091309\n",
            "discriminator loss at step 5300: 0.7134568691253662\n",
            "adversarial loss at step 5300: 0.7456323504447937\n",
            "discriminator loss at step 5400: 0.6847368478775024\n",
            "adversarial loss at step 5400: 0.7197755575180054\n",
            "discriminator loss at step 5500: 0.7539154887199402\n",
            "adversarial loss at step 5500: 0.7616277933120728\n",
            "discriminator loss at step 5600: 0.6923174858093262\n",
            "adversarial loss at step 5600: 0.6674324870109558\n",
            "discriminator loss at step 5700: 0.6888853311538696\n",
            "adversarial loss at step 5700: 0.7778748273849487\n",
            "discriminator loss at step 5800: 0.6952353715896606\n",
            "adversarial loss at step 5800: 0.7298752665519714\n",
            "discriminator loss at step 5900: 0.6857305765151978\n",
            "adversarial loss at step 5900: 0.7062767744064331\n",
            "discriminator loss at step 6000: 0.7152646780014038\n",
            "adversarial loss at step 6000: 0.7744935154914856\n",
            "discriminator loss at step 6100: 0.6876609325408936\n",
            "adversarial loss at step 6100: 0.7579434514045715\n",
            "discriminator loss at step 6200: 0.7112455368041992\n",
            "adversarial loss at step 6200: 0.8123769760131836\n",
            "discriminator loss at step 6300: 0.6911206841468811\n",
            "adversarial loss at step 6300: 0.721127986907959\n",
            "discriminator loss at step 6400: 1.1428292989730835\n",
            "adversarial loss at step 6400: 0.8152497410774231\n",
            "discriminator loss at step 6500: 0.6860974431037903\n",
            "adversarial loss at step 6500: 0.7954331040382385\n",
            "discriminator loss at step 6600: 0.6941653490066528\n",
            "adversarial loss at step 6600: 0.761238694190979\n",
            "discriminator loss at step 6700: 0.8197606801986694\n",
            "adversarial loss at step 6700: 0.934198260307312\n",
            "discriminator loss at step 6800: 0.6616848707199097\n",
            "adversarial loss at step 6800: 0.663589358329773\n",
            "discriminator loss at step 6900: 0.7207952737808228\n",
            "adversarial loss at step 6900: 0.7350466847419739\n",
            "discriminator loss at step 7000: 0.6846774220466614\n",
            "adversarial loss at step 7000: 0.752434492111206\n",
            "discriminator loss at step 7100: 0.7442741394042969\n",
            "adversarial loss at step 7100: 0.7630022764205933\n",
            "discriminator loss at step 7200: 0.6845577955245972\n",
            "adversarial loss at step 7200: 0.9197205305099487\n",
            "discriminator loss at step 7300: 0.7272796630859375\n",
            "adversarial loss at step 7300: 0.8318601846694946\n",
            "discriminator loss at step 7400: 0.7473996877670288\n",
            "adversarial loss at step 7400: 0.7351770401000977\n",
            "discriminator loss at step 7500: 0.7752237319946289\n",
            "adversarial loss at step 7500: 0.5654339790344238\n",
            "discriminator loss at step 7600: 0.6868891716003418\n",
            "adversarial loss at step 7600: 0.8100751042366028\n",
            "discriminator loss at step 7700: 0.6858951449394226\n",
            "adversarial loss at step 7700: 0.7453225255012512\n",
            "discriminator loss at step 7800: 0.6559052467346191\n",
            "adversarial loss at step 7800: 0.9032117128372192\n",
            "discriminator loss at step 7900: 0.7353454828262329\n",
            "adversarial loss at step 7900: 0.7905133962631226\n",
            "discriminator loss at step 8000: 0.7828829884529114\n",
            "adversarial loss at step 8000: 1.0861843824386597\n",
            "discriminator loss at step 8100: 0.6679145693778992\n",
            "adversarial loss at step 8100: 0.7958212494850159\n",
            "discriminator loss at step 8200: 0.7357189655303955\n",
            "adversarial loss at step 8200: 0.807864785194397\n",
            "discriminator loss at step 8300: 0.672370970249176\n",
            "adversarial loss at step 8300: 0.7943806648254395\n",
            "discriminator loss at step 8400: 0.7198023796081543\n",
            "adversarial loss at step 8400: 0.9031833410263062\n",
            "discriminator loss at step 8500: 0.6733304858207703\n",
            "adversarial loss at step 8500: 0.8639219403266907\n",
            "discriminator loss at step 8600: 0.6636385917663574\n",
            "adversarial loss at step 8600: 0.8425067067146301\n",
            "discriminator loss at step 8700: 0.6938428282737732\n",
            "adversarial loss at step 8700: 0.784713864326477\n",
            "discriminator loss at step 8800: 0.7227681279182434\n",
            "adversarial loss at step 8800: 0.7848125696182251\n",
            "discriminator loss at step 8900: 0.6894471049308777\n",
            "adversarial loss at step 8900: 1.1616491079330444\n",
            "discriminator loss at step 9000: 0.6609852910041809\n",
            "adversarial loss at step 9000: 0.8238792419433594\n",
            "discriminator loss at step 9100: 0.6900769472122192\n",
            "adversarial loss at step 9100: 0.78099125623703\n",
            "discriminator loss at step 9200: 0.7362762093544006\n",
            "adversarial loss at step 9200: 0.7564414143562317\n",
            "discriminator loss at step 9300: 0.6851295828819275\n",
            "adversarial loss at step 9300: 1.067626953125\n",
            "discriminator loss at step 9400: 0.7545669078826904\n",
            "adversarial loss at step 9400: 1.0338771343231201\n",
            "discriminator loss at step 9500: 0.6763665676116943\n",
            "adversarial loss at step 9500: 0.8109792470932007\n",
            "discriminator loss at step 9600: 0.6831873655319214\n",
            "adversarial loss at step 9600: 0.8376284837722778\n",
            "discriminator loss at step 9700: 0.7056008577346802\n",
            "adversarial loss at step 9700: 0.8589202761650085\n",
            "discriminator loss at step 9800: 0.6629651784896851\n",
            "adversarial loss at step 9800: 0.8067111968994141\n",
            "discriminator loss at step 9900: 0.6744524240493774\n",
            "adversarial loss at step 9900: 0.7587453126907349\n"
          ],
          "name": "stdout"
        }
      ]
    },
    {
      "cell_type": "markdown",
      "metadata": {
        "collapsed": true,
        "id": "x24hfAN5UU8T"
      },
      "source": [
        "Let's display a few of our fake images:"
      ]
    },
    {
      "cell_type": "code",
      "metadata": {
        "id": "dxZQKg-WUU8U",
        "outputId": "c91d1b24-5e20-4dfc-d61c-bb6d57d61c2d",
        "colab": {
          "base_uri": "https://localhost:8080/",
          "height": 1000
        }
      },
      "source": [
        "import matplotlib.pyplot as plt\n",
        "\n",
        "# Sample random points in the latent space\n",
        "random_latent_vectors = np.random.normal(size=(10, latent_dim))\n",
        "\n",
        "# Decode them to fake images\n",
        "generated_images = generator.predict(random_latent_vectors)\n",
        "\n",
        "for i in range(generated_images.shape[0]):\n",
        "    img = image.array_to_img(generated_images[i] * 255., scale=False)\n",
        "    plt.figure()\n",
        "    plt.imshow(img)\n",
        "    \n",
        "plt.show()"
      ],
      "execution_count": 10,
      "outputs": [
        {
          "output_type": "display_data",
          "data": {
            "image/png": "[encoded data removed]",
            "text/plain": [
              "<Figure size 432x288 with 1 Axes>"
            ]
          },
          "metadata": {
            "tags": [],
            "needs_background": "light"
          }
        },
        {
          "output_type": "display_data",
          "data": {
            "image/png": "[encoded data removed]",
            "text/plain": [
              "<Figure size 432x288 with 1 Axes>"
            ]
          },
          "metadata": {
            "tags": [],
            "needs_background": "light"
          }
        },
        {
          "output_type": "display_data",
          "data": {
            "image/png": "[encoded data removed]",
            "text/plain": [
              "<Figure size 432x288 with 1 Axes>"
            ]
          },
          "metadata": {
            "tags": [],
            "needs_background": "light"
          }
        },
        {
          "output_type": "display_data",
          "data": {
            "image/png": "[encoded data removed]",
            "text/plain": [
              "<Figure size 432x288 with 1 Axes>"
            ]
          },
          "metadata": {
            "tags": [],
            "needs_background": "light"
          }
        },
        {
          "output_type": "display_data",
          "data": {
            "image/png": "[encoded data removed]",
            "text/plain": [
              "<Figure size 432x288 with 1 Axes>"
            ]
          },
          "metadata": {
            "tags": [],
            "needs_background": "light"
          }
        },
        {
          "output_type": "display_data",
          "data": {
            "image/png": "[encoded data removed]",
            "text/plain": [
              "<Figure size 432x288 with 1 Axes>"
            ]
          },
          "metadata": {
            "tags": [],
            "needs_background": "light"
          }
        },
        {
          "output_type": "display_data",
          "data": {
            "image/png": "[encoded data removed]",
            "text/plain": [
              "<Figure size 432x288 with 1 Axes>"
            ]
          },
          "metadata": {
            "tags": [],
            "needs_background": "light"
          }
        },
        {
          "output_type": "display_data",
          "data": {
            "image/png": "[encoded data removed]",
            "text/plain": [
              "<Figure size 432x288 with 1 Axes>"
            ]
          },
          "metadata": {
            "tags": [],
            "needs_background": "light"
          }
        },
        {
          "output_type": "display_data",
          "data": {
            "image/png": "[encoded data removed]",
            "text/plain": [
              "<Figure size 432x288 with 1 Axes>"
            ]
          },
          "metadata": {
            "tags": [],
            "needs_background": "light"
          }
        },
        {
          "output_type": "display_data",
          "data": {
            "image/png": "[encoded data removed]",
            "text/plain": [
              "<Figure size 432x288 with 1 Axes>"
            ]
          },
          "metadata": {
            "tags": [],
            "needs_background": "light"
          }
        }
      ]
    },
    {
      "cell_type": "markdown",
      "metadata": {
        "id": "cRIMNs39UU8U"
      },
      "source": [
        "Froggy with some pixellated artifacts."
      ]
    },
    {
      "cell_type": "code",
      "metadata": {
        "id": "VCddyejoUg9C"
      },
      "source": [
        ""
      ],
      "execution_count": 6,
      "outputs": []
    }
  ]
}